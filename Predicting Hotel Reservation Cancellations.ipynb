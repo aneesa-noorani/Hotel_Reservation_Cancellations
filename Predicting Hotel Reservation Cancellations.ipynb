{
 "cells": [
  {
   "cell_type": "markdown",
   "metadata": {},
   "source": [
    "# Classification Task"
   ]
  },
  {
   "cell_type": "markdown",
   "metadata": {},
   "source": [
    "For this project's classification task, I chose the 'Hotel Booking Demand' dataset from Kaggle. The objective is to predict whether or not a hotel reservation ends up getting cancelled or not.\n",
    "\n",
    "\n",
    "Source: https://www.kaggle.com/jessemostipak/hotel-booking-demand"
   ]
  },
  {
   "cell_type": "code",
   "execution_count": 1,
   "metadata": {},
   "outputs": [],
   "source": [
    "import warnings\n",
    "warnings.filterwarnings('ignore')\n",
    "import numpy as np\n",
    "import pandas as pd\n",
    "import seaborn as sns\n",
    "import matplotlib.pyplot as plt\n",
    "import sklearn\n",
    "import pycats\n",
    "import random\n",
    "\n",
    "from sklearn.preprocessing import StandardScaler\n",
    "from sklearn.model_selection import train_test_split\n",
    "from sklearn.model_selection import GridSearchCV\n",
    "from sklearn.metrics import accuracy_score, confusion_matrix, precision_score, recall_score, f1_score"
   ]
  },
  {
   "cell_type": "markdown",
   "metadata": {},
   "source": [
    "## Data setup"
   ]
  },
  {
   "cell_type": "markdown",
   "metadata": {},
   "source": [
    "#### Step 1) Load data"
   ]
  },
  {
   "cell_type": "code",
   "execution_count": 2,
   "metadata": {},
   "outputs": [
    {
     "data": {
      "text/plain": [
       "(119390, 32)"
      ]
     },
     "execution_count": 2,
     "metadata": {},
     "output_type": "execute_result"
    }
   ],
   "source": [
    "original = pd.read_csv(r'hotel_bookings.csv')\n",
    "hotel_df = original.copy()\n",
    "hotel_df.shape"
   ]
  },
  {
   "cell_type": "code",
   "execution_count": 3,
   "metadata": {
    "scrolled": true
   },
   "outputs": [
    {
     "data": {
      "text/plain": [
       "Index(['hotel', 'is_canceled', 'lead_time', 'arrival_date_year',\n",
       "       'arrival_date_month', 'arrival_date_week_number',\n",
       "       'arrival_date_day_of_month', 'stays_in_weekend_nights',\n",
       "       'stays_in_week_nights', 'adults', 'children', 'babies', 'meal',\n",
       "       'country', 'market_segment', 'distribution_channel',\n",
       "       'is_repeated_guest', 'previous_cancellations',\n",
       "       'previous_bookings_not_canceled', 'reserved_room_type',\n",
       "       'assigned_room_type', 'booking_changes', 'deposit_type', 'agent',\n",
       "       'company', 'days_in_waiting_list', 'customer_type', 'adr',\n",
       "       'required_car_parking_spaces', 'total_of_special_requests',\n",
       "       'reservation_status', 'reservation_status_date'],\n",
       "      dtype='object')"
      ]
     },
     "execution_count": 3,
     "metadata": {},
     "output_type": "execute_result"
    }
   ],
   "source": [
    "hotel_df.columns"
   ]
  },
  {
   "cell_type": "markdown",
   "metadata": {},
   "source": [
    "#### Step 2) Insert required missing values"
   ]
  },
  {
   "cell_type": "code",
   "execution_count": 4,
   "metadata": {
    "scrolled": true
   },
   "outputs": [
    {
     "data": {
      "text/plain": [
       "hotel                                  0\n",
       "is_canceled                            0\n",
       "lead_time                              0\n",
       "arrival_date_year                      0\n",
       "arrival_date_month                     0\n",
       "arrival_date_week_number               0\n",
       "arrival_date_day_of_month              0\n",
       "stays_in_weekend_nights                0\n",
       "stays_in_week_nights                   0\n",
       "adults                                 0\n",
       "children                               4\n",
       "babies                                 0\n",
       "meal                                   0\n",
       "country                              488\n",
       "market_segment                         0\n",
       "distribution_channel                   0\n",
       "is_repeated_guest                      0\n",
       "previous_cancellations                 0\n",
       "previous_bookings_not_canceled         0\n",
       "reserved_room_type                     0\n",
       "assigned_room_type                     0\n",
       "booking_changes                        0\n",
       "deposit_type                           0\n",
       "agent                              16340\n",
       "company                           112593\n",
       "days_in_waiting_list                   0\n",
       "customer_type                          0\n",
       "adr                                    0\n",
       "required_car_parking_spaces            0\n",
       "total_of_special_requests              0\n",
       "reservation_status                     0\n",
       "reservation_status_date                0\n",
       "dtype: int64"
      ]
     },
     "execution_count": 4,
     "metadata": {},
     "output_type": "execute_result"
    }
   ],
   "source": [
    "hotel_df.isna().sum()"
   ]
  },
  {
   "cell_type": "code",
   "execution_count": 5,
   "metadata": {},
   "outputs": [
    {
     "name": "stdout",
     "output_type": "stream",
     "text": [
      "Total number of missing values:  129425\n"
     ]
    }
   ],
   "source": [
    "print(\"Total number of missing values: \", original.isna().sum().sum())"
   ]
  },
  {
   "cell_type": "markdown",
   "metadata": {},
   "source": [
    "We can see that there are currently 129,425 missing values. However, to meet the requirement of having 5% missing values (191,024), we still need to replace some (61,599 observations) values with missing values.\n",
    "\n",
    "Before we can do implement a method to convert a certain percentage of random values to NaN, we have to replace the current NaN values with another value besides NaN, so that the method interprets them as numbers"
   ]
  },
  {
   "cell_type": "code",
   "execution_count": 6,
   "metadata": {},
   "outputs": [],
   "source": [
    "random.seed(0)\n",
    "hotel_df = hotel_df.mask(np.random.random(hotel_df.shape) <= 0.0168)\n",
    "\n",
    "# 0.016124 is the proportion of missing values we still need to generate, \n",
    "    # so setting the maximum to be a little greater proportion than that"
   ]
  },
  {
   "cell_type": "code",
   "execution_count": 7,
   "metadata": {
    "scrolled": true
   },
   "outputs": [
    {
     "data": {
      "text/plain": [
       "hotel                               2009\n",
       "is_canceled                         2088\n",
       "lead_time                           2088\n",
       "arrival_date_year                   1982\n",
       "arrival_date_month                  1976\n",
       "arrival_date_week_number            2059\n",
       "arrival_date_day_of_month           2018\n",
       "stays_in_weekend_nights             1968\n",
       "stays_in_week_nights                2019\n",
       "adults                              2004\n",
       "children                            1945\n",
       "babies                              2007\n",
       "meal                                1939\n",
       "country                             2456\n",
       "market_segment                      2007\n",
       "distribution_channel                2060\n",
       "is_repeated_guest                   2079\n",
       "previous_cancellations              2072\n",
       "previous_bookings_not_canceled      1958\n",
       "reserved_room_type                  1915\n",
       "assigned_room_type                  2015\n",
       "booking_changes                     2051\n",
       "deposit_type                        2033\n",
       "agent                              18004\n",
       "company                           112705\n",
       "days_in_waiting_list                2019\n",
       "customer_type                       1947\n",
       "adr                                 2039\n",
       "required_car_parking_spaces         1990\n",
       "total_of_special_requests           2095\n",
       "reservation_status                  2009\n",
       "reservation_status_date             1953\n",
       "dtype: int64"
      ]
     },
     "execution_count": 7,
     "metadata": {},
     "output_type": "execute_result"
    }
   ],
   "source": [
    "    # view new number of missing values in each column\n",
    "hotel_df.isna().sum()"
   ]
  },
  {
   "cell_type": "code",
   "execution_count": 8,
   "metadata": {},
   "outputs": [
    {
     "name": "stdout",
     "output_type": "stream",
     "text": [
      "New total number of missing values:  191509\n"
     ]
    }
   ],
   "source": [
    "print('New total number of missing values: ', (hotel_df.isna().sum().sum()))\n",
    "#print('Train score: {:.4f}'.format(knn.score(X_train, y_train)))"
   ]
  },
  {
   "cell_type": "code",
   "execution_count": 9,
   "metadata": {},
   "outputs": [
    {
     "name": "stdout",
     "output_type": "stream",
     "text": [
      "Percentage of missing values in entire dataset: 5.0127 %\n"
     ]
    }
   ],
   "source": [
    "print(\"Percentage of missing values in entire dataset: {:.4f} %\".format(((hotel_df.isna().sum().sum()) / (119390*32))*100))"
   ]
  },
  {
   "cell_type": "markdown",
   "metadata": {},
   "source": [
    "## Data Preprocessing"
   ]
  },
  {
   "cell_type": "markdown",
   "metadata": {},
   "source": [
    "#### Step 1) Handle outliers"
   ]
  },
  {
   "cell_type": "markdown",
   "metadata": {},
   "source": [
    "Let's view all the numeric columns to see if there might be any outliers."
   ]
  },
  {
   "cell_type": "code",
   "execution_count": 10,
   "metadata": {},
   "outputs": [
    {
     "data": {
      "text/html": [
       "<div>\n",
       "<style scoped>\n",
       "    .dataframe tbody tr th:only-of-type {\n",
       "        vertical-align: middle;\n",
       "    }\n",
       "\n",
       "    .dataframe tbody tr th {\n",
       "        vertical-align: top;\n",
       "    }\n",
       "\n",
       "    .dataframe thead th {\n",
       "        text-align: right;\n",
       "    }\n",
       "</style>\n",
       "<table border=\"1\" class=\"dataframe\">\n",
       "  <thead>\n",
       "    <tr style=\"text-align: right;\">\n",
       "      <th></th>\n",
       "      <th>is_canceled</th>\n",
       "      <th>lead_time</th>\n",
       "      <th>arrival_date_year</th>\n",
       "      <th>arrival_date_week_number</th>\n",
       "      <th>arrival_date_day_of_month</th>\n",
       "      <th>stays_in_weekend_nights</th>\n",
       "      <th>stays_in_week_nights</th>\n",
       "      <th>adults</th>\n",
       "      <th>children</th>\n",
       "      <th>babies</th>\n",
       "      <th>is_repeated_guest</th>\n",
       "      <th>previous_cancellations</th>\n",
       "      <th>previous_bookings_not_canceled</th>\n",
       "      <th>booking_changes</th>\n",
       "      <th>agent</th>\n",
       "      <th>company</th>\n",
       "      <th>days_in_waiting_list</th>\n",
       "      <th>adr</th>\n",
       "      <th>required_car_parking_spaces</th>\n",
       "      <th>total_of_special_requests</th>\n",
       "    </tr>\n",
       "  </thead>\n",
       "  <tbody>\n",
       "    <tr>\n",
       "      <th>count</th>\n",
       "      <td>117302.00</td>\n",
       "      <td>117302.00</td>\n",
       "      <td>117408.00</td>\n",
       "      <td>117331.00</td>\n",
       "      <td>117372.00</td>\n",
       "      <td>117422.00</td>\n",
       "      <td>117371.00</td>\n",
       "      <td>117386.00</td>\n",
       "      <td>117445.0</td>\n",
       "      <td>117383.00</td>\n",
       "      <td>117311.00</td>\n",
       "      <td>117318.00</td>\n",
       "      <td>117432.00</td>\n",
       "      <td>117339.00</td>\n",
       "      <td>101386.00</td>\n",
       "      <td>6685.00</td>\n",
       "      <td>117371.00</td>\n",
       "      <td>117351.00</td>\n",
       "      <td>117400.00</td>\n",
       "      <td>117295.00</td>\n",
       "    </tr>\n",
       "    <tr>\n",
       "      <th>mean</th>\n",
       "      <td>0.37</td>\n",
       "      <td>104.04</td>\n",
       "      <td>2016.16</td>\n",
       "      <td>27.17</td>\n",
       "      <td>15.80</td>\n",
       "      <td>0.93</td>\n",
       "      <td>2.50</td>\n",
       "      <td>1.86</td>\n",
       "      <td>0.1</td>\n",
       "      <td>0.01</td>\n",
       "      <td>0.03</td>\n",
       "      <td>0.09</td>\n",
       "      <td>0.14</td>\n",
       "      <td>0.22</td>\n",
       "      <td>86.69</td>\n",
       "      <td>189.26</td>\n",
       "      <td>2.32</td>\n",
       "      <td>101.84</td>\n",
       "      <td>0.06</td>\n",
       "      <td>0.57</td>\n",
       "    </tr>\n",
       "    <tr>\n",
       "      <th>std</th>\n",
       "      <td>0.48</td>\n",
       "      <td>106.87</td>\n",
       "      <td>0.71</td>\n",
       "      <td>13.60</td>\n",
       "      <td>8.78</td>\n",
       "      <td>1.00</td>\n",
       "      <td>1.91</td>\n",
       "      <td>0.58</td>\n",
       "      <td>0.4</td>\n",
       "      <td>0.10</td>\n",
       "      <td>0.18</td>\n",
       "      <td>0.85</td>\n",
       "      <td>1.49</td>\n",
       "      <td>0.65</td>\n",
       "      <td>110.75</td>\n",
       "      <td>131.68</td>\n",
       "      <td>17.62</td>\n",
       "      <td>50.57</td>\n",
       "      <td>0.24</td>\n",
       "      <td>0.79</td>\n",
       "    </tr>\n",
       "    <tr>\n",
       "      <th>min</th>\n",
       "      <td>0.00</td>\n",
       "      <td>0.00</td>\n",
       "      <td>2015.00</td>\n",
       "      <td>1.00</td>\n",
       "      <td>1.00</td>\n",
       "      <td>0.00</td>\n",
       "      <td>0.00</td>\n",
       "      <td>0.00</td>\n",
       "      <td>0.0</td>\n",
       "      <td>0.00</td>\n",
       "      <td>0.00</td>\n",
       "      <td>0.00</td>\n",
       "      <td>0.00</td>\n",
       "      <td>0.00</td>\n",
       "      <td>1.00</td>\n",
       "      <td>6.00</td>\n",
       "      <td>0.00</td>\n",
       "      <td>-6.38</td>\n",
       "      <td>0.00</td>\n",
       "      <td>0.00</td>\n",
       "    </tr>\n",
       "    <tr>\n",
       "      <th>25%</th>\n",
       "      <td>0.00</td>\n",
       "      <td>18.00</td>\n",
       "      <td>2016.00</td>\n",
       "      <td>16.00</td>\n",
       "      <td>8.00</td>\n",
       "      <td>0.00</td>\n",
       "      <td>1.00</td>\n",
       "      <td>2.00</td>\n",
       "      <td>0.0</td>\n",
       "      <td>0.00</td>\n",
       "      <td>0.00</td>\n",
       "      <td>0.00</td>\n",
       "      <td>0.00</td>\n",
       "      <td>0.00</td>\n",
       "      <td>9.00</td>\n",
       "      <td>62.00</td>\n",
       "      <td>0.00</td>\n",
       "      <td>69.30</td>\n",
       "      <td>0.00</td>\n",
       "      <td>0.00</td>\n",
       "    </tr>\n",
       "    <tr>\n",
       "      <th>50%</th>\n",
       "      <td>0.00</td>\n",
       "      <td>69.00</td>\n",
       "      <td>2016.00</td>\n",
       "      <td>28.00</td>\n",
       "      <td>16.00</td>\n",
       "      <td>1.00</td>\n",
       "      <td>2.00</td>\n",
       "      <td>2.00</td>\n",
       "      <td>0.0</td>\n",
       "      <td>0.00</td>\n",
       "      <td>0.00</td>\n",
       "      <td>0.00</td>\n",
       "      <td>0.00</td>\n",
       "      <td>0.00</td>\n",
       "      <td>14.00</td>\n",
       "      <td>178.00</td>\n",
       "      <td>0.00</td>\n",
       "      <td>94.59</td>\n",
       "      <td>0.00</td>\n",
       "      <td>0.00</td>\n",
       "    </tr>\n",
       "    <tr>\n",
       "      <th>75%</th>\n",
       "      <td>1.00</td>\n",
       "      <td>160.00</td>\n",
       "      <td>2017.00</td>\n",
       "      <td>38.00</td>\n",
       "      <td>23.00</td>\n",
       "      <td>2.00</td>\n",
       "      <td>3.00</td>\n",
       "      <td>2.00</td>\n",
       "      <td>0.0</td>\n",
       "      <td>0.00</td>\n",
       "      <td>0.00</td>\n",
       "      <td>0.00</td>\n",
       "      <td>0.00</td>\n",
       "      <td>0.00</td>\n",
       "      <td>229.00</td>\n",
       "      <td>270.00</td>\n",
       "      <td>0.00</td>\n",
       "      <td>126.00</td>\n",
       "      <td>0.00</td>\n",
       "      <td>1.00</td>\n",
       "    </tr>\n",
       "    <tr>\n",
       "      <th>max</th>\n",
       "      <td>1.00</td>\n",
       "      <td>737.00</td>\n",
       "      <td>2017.00</td>\n",
       "      <td>53.00</td>\n",
       "      <td>31.00</td>\n",
       "      <td>19.00</td>\n",
       "      <td>50.00</td>\n",
       "      <td>55.00</td>\n",
       "      <td>10.0</td>\n",
       "      <td>10.00</td>\n",
       "      <td>1.00</td>\n",
       "      <td>26.00</td>\n",
       "      <td>72.00</td>\n",
       "      <td>21.00</td>\n",
       "      <td>535.00</td>\n",
       "      <td>543.00</td>\n",
       "      <td>391.00</td>\n",
       "      <td>5400.00</td>\n",
       "      <td>8.00</td>\n",
       "      <td>5.00</td>\n",
       "    </tr>\n",
       "  </tbody>\n",
       "</table>\n",
       "</div>"
      ],
      "text/plain": [
       "       is_canceled  lead_time  arrival_date_year  arrival_date_week_number  \\\n",
       "count    117302.00  117302.00          117408.00                 117331.00   \n",
       "mean          0.37     104.04            2016.16                     27.17   \n",
       "std           0.48     106.87               0.71                     13.60   \n",
       "min           0.00       0.00            2015.00                      1.00   \n",
       "25%           0.00      18.00            2016.00                     16.00   \n",
       "50%           0.00      69.00            2016.00                     28.00   \n",
       "75%           1.00     160.00            2017.00                     38.00   \n",
       "max           1.00     737.00            2017.00                     53.00   \n",
       "\n",
       "       arrival_date_day_of_month  stays_in_weekend_nights  \\\n",
       "count                  117372.00                117422.00   \n",
       "mean                       15.80                     0.93   \n",
       "std                         8.78                     1.00   \n",
       "min                         1.00                     0.00   \n",
       "25%                         8.00                     0.00   \n",
       "50%                        16.00                     1.00   \n",
       "75%                        23.00                     2.00   \n",
       "max                        31.00                    19.00   \n",
       "\n",
       "       stays_in_week_nights     adults  children     babies  \\\n",
       "count             117371.00  117386.00  117445.0  117383.00   \n",
       "mean                   2.50       1.86       0.1       0.01   \n",
       "std                    1.91       0.58       0.4       0.10   \n",
       "min                    0.00       0.00       0.0       0.00   \n",
       "25%                    1.00       2.00       0.0       0.00   \n",
       "50%                    2.00       2.00       0.0       0.00   \n",
       "75%                    3.00       2.00       0.0       0.00   \n",
       "max                   50.00      55.00      10.0      10.00   \n",
       "\n",
       "       is_repeated_guest  previous_cancellations  \\\n",
       "count          117311.00               117318.00   \n",
       "mean                0.03                    0.09   \n",
       "std                 0.18                    0.85   \n",
       "min                 0.00                    0.00   \n",
       "25%                 0.00                    0.00   \n",
       "50%                 0.00                    0.00   \n",
       "75%                 0.00                    0.00   \n",
       "max                 1.00                   26.00   \n",
       "\n",
       "       previous_bookings_not_canceled  booking_changes      agent  company  \\\n",
       "count                       117432.00        117339.00  101386.00  6685.00   \n",
       "mean                             0.14             0.22      86.69   189.26   \n",
       "std                              1.49             0.65     110.75   131.68   \n",
       "min                              0.00             0.00       1.00     6.00   \n",
       "25%                              0.00             0.00       9.00    62.00   \n",
       "50%                              0.00             0.00      14.00   178.00   \n",
       "75%                              0.00             0.00     229.00   270.00   \n",
       "max                             72.00            21.00     535.00   543.00   \n",
       "\n",
       "       days_in_waiting_list        adr  required_car_parking_spaces  \\\n",
       "count             117371.00  117351.00                    117400.00   \n",
       "mean                   2.32     101.84                         0.06   \n",
       "std                   17.62      50.57                         0.24   \n",
       "min                    0.00      -6.38                         0.00   \n",
       "25%                    0.00      69.30                         0.00   \n",
       "50%                    0.00      94.59                         0.00   \n",
       "75%                    0.00     126.00                         0.00   \n",
       "max                  391.00    5400.00                         8.00   \n",
       "\n",
       "       total_of_special_requests  \n",
       "count                  117295.00  \n",
       "mean                        0.57  \n",
       "std                         0.79  \n",
       "min                         0.00  \n",
       "25%                         0.00  \n",
       "50%                         0.00  \n",
       "75%                         1.00  \n",
       "max                         5.00  "
      ]
     },
     "execution_count": 10,
     "metadata": {},
     "output_type": "execute_result"
    }
   ],
   "source": [
    "hotel_df.describe().round(2)"
   ]
  },
  {
   "cell_type": "markdown",
   "metadata": {},
   "source": [
    "The only column with potential outliers is 'adr' (average daily rate). The maximum for this column is $5400. It is likely the case that there is an extra zero in this value. However, since we don't have information on prices at this hotel, it's impossible to confirm. Since it is not a good idea to manipulate the data provided to us, we will instead simply drop this observation.\n",
    "\n",
    "The minimum value for the 'adr' column is -6.38, which also does not seem accurate. We will also drop this observation"
   ]
  },
  {
   "cell_type": "code",
   "execution_count": 11,
   "metadata": {},
   "outputs": [
    {
     "data": {
      "text/plain": [
       "(119388, 32)"
      ]
     },
     "execution_count": 11,
     "metadata": {},
     "output_type": "execute_result"
    }
   ],
   "source": [
    "hotel_df = hotel_df[hotel_df['adr'] != 5400]\n",
    "hotel_df = hotel_df[hotel_df['adr'] != -6.38]\n",
    "hotel_df.shape"
   ]
  },
  {
   "cell_type": "markdown",
   "metadata": {},
   "source": [
    "What's also concerning is that there are several rows where 'adr' equals zero."
   ]
  },
  {
   "cell_type": "code",
   "execution_count": 12,
   "metadata": {},
   "outputs": [
    {
     "data": {
      "text/plain": [
       "1923"
      ]
     },
     "execution_count": 12,
     "metadata": {},
     "output_type": "execute_result"
    }
   ],
   "source": [
    "hotel_df[hotel_df['adr'] == 0 ]['adr'].count()"
   ]
  },
  {
   "cell_type": "markdown",
   "metadata": {},
   "source": [
    "Without more information, it's hard to interpret what an average daily rate of zero actually means. It's unlikely that the hotel lets guests stay for free. The observations could represent missing values, but we can't confirm. To be safe, we will drop these observations as well, which amounted to ~1.6% of the entire data set."
   ]
  },
  {
   "cell_type": "code",
   "execution_count": 13,
   "metadata": {},
   "outputs": [
    {
     "data": {
      "text/plain": [
       "(117465, 32)"
      ]
     },
     "execution_count": 13,
     "metadata": {},
     "output_type": "execute_result"
    }
   ],
   "source": [
    "hotel_df = hotel_df[hotel_df['adr'] != 0]\n",
    "hotel_df.shape"
   ]
  },
  {
   "cell_type": "markdown",
   "metadata": {},
   "source": [
    "#### Step 2) Drop columns with high proportion of missing values"
   ]
  },
  {
   "cell_type": "markdown",
   "metadata": {},
   "source": [
    "Since the 'company' column has a high proportion of missing values, we will drop it. We will also drop 'agent' because that column serves as an identifying column for the agent that made the sale. While it would be interesting from an HR perspective to see if some agents have more cancellations than others, that's not the purpose of this project. In addition, adding a dummy for each agent would amount to a dataset with too many columns. Hence, we will also drop this column"
   ]
  },
  {
   "cell_type": "code",
   "execution_count": 14,
   "metadata": {},
   "outputs": [
    {
     "data": {
      "text/plain": [
       "(117465, 30)"
      ]
     },
     "execution_count": 14,
     "metadata": {},
     "output_type": "execute_result"
    }
   ],
   "source": [
    "hotel_df.drop(['company', 'agent'], axis=1, inplace=True)\n",
    "hotel_df.shape"
   ]
  },
  {
   "cell_type": "markdown",
   "metadata": {},
   "source": [
    "#### Step 3) Drop leaked column"
   ]
  },
  {
   "cell_type": "markdown",
   "metadata": {},
   "source": [
    "'reservation_status' is a leaked column, as it is a reflection of the 'is_canceled' column, which is what we are trying to predict. In addition, if we are dropping 'reservatinon_status,' then there is also no point in keeping 'reservation_status_date.'"
   ]
  },
  {
   "cell_type": "code",
   "execution_count": 15,
   "metadata": {},
   "outputs": [
    {
     "data": {
      "text/plain": [
       "(117465, 28)"
      ]
     },
     "execution_count": 15,
     "metadata": {},
     "output_type": "execute_result"
    }
   ],
   "source": [
    "hotel_df.drop(['reservation_status', 'reservation_status_date'], axis=1, inplace=True)\n",
    "hotel_df.shape"
   ]
  },
  {
   "cell_type": "markdown",
   "metadata": {},
   "source": [
    "#### Step 4) Drop unnecessary columns"
   ]
  },
  {
   "cell_type": "markdown",
   "metadata": {},
   "source": [
    "1) 'arrival_date_year' is important for understanding trends. But if our ultimate goal is to create a business strategy, knowing the trends won't necessarily be helpful. Let's remove.\n",
    "\n",
    "2) 'arrival_date_week_number' is already captured with month and day of month. In addition, keeping a column with 52 different categories will likely simply add to the high-dimensionality of our data. Let's drop.\n",
    "\n",
    "3) 'arrival_date_day_of_month' has 31 different values. If we one-hot encode all of them, we will significantly increase the dimensionality of our data set. For business purposes, we are likely more interested in the month, because that will guide strategic decisions.\n",
    "\n",
    "4) 'market_segment' and 'distribution_channel' are very similar in values. Let's drop 'market_segment,' which has more categories than 'distribution_channel.'\n",
    "\n",
    "5) 'assigned_room_type' is similar to 'reserved_room_type.' The former likely has more influence than the latter on whether or not a booking is cancelled (assuming the customer finds out beforehand what room type they have been assigned). So let's drop 'reserved_room_type.'\n",
    "\n",
    "6 & 7) 'required_car_parking_spaces' and 'total_of_special_requests' seem a little unnecessary as a predictor variable. There are several other variables that are likely much more influential than these. Let's drop."
   ]
  },
  {
   "cell_type": "code",
   "execution_count": 16,
   "metadata": {},
   "outputs": [
    {
     "data": {
      "text/plain": [
       "(117465, 21)"
      ]
     },
     "execution_count": 16,
     "metadata": {},
     "output_type": "execute_result"
    }
   ],
   "source": [
    "hotel_df.drop(\n",
    "    ['arrival_date_year', 'arrival_date_week_number', 'arrival_date_day_of_month', 'market_segment', 'reserved_room_type', 'required_car_parking_spaces', 'total_of_special_requests'], \n",
    "    axis=1, inplace=True)\n",
    "hotel_df.shape"
   ]
  },
  {
   "cell_type": "markdown",
   "metadata": {},
   "source": [
    "#### Step 5) Missing values in numerical columns"
   ]
  },
  {
   "cell_type": "markdown",
   "metadata": {},
   "source": [
    "##### A) 'is_canceled'"
   ]
  },
  {
   "cell_type": "markdown",
   "metadata": {},
   "source": [
    "A missing value in the 'is_canceled' column renders the entire observation row meaningless, since that is the column value we are trying to predict. So, we will drop those rows."
   ]
  },
  {
   "cell_type": "code",
   "execution_count": 17,
   "metadata": {},
   "outputs": [
    {
     "data": {
      "text/html": [
       "<div>\n",
       "<style scoped>\n",
       "    .dataframe tbody tr th:only-of-type {\n",
       "        vertical-align: middle;\n",
       "    }\n",
       "\n",
       "    .dataframe tbody tr th {\n",
       "        vertical-align: top;\n",
       "    }\n",
       "\n",
       "    .dataframe thead th {\n",
       "        text-align: right;\n",
       "    }\n",
       "</style>\n",
       "<table border=\"1\" class=\"dataframe\">\n",
       "  <thead>\n",
       "    <tr style=\"text-align: right;\">\n",
       "      <th></th>\n",
       "      <th>hotel</th>\n",
       "      <th>is_canceled</th>\n",
       "      <th>lead_time</th>\n",
       "      <th>arrival_date_month</th>\n",
       "      <th>stays_in_weekend_nights</th>\n",
       "      <th>stays_in_week_nights</th>\n",
       "      <th>adults</th>\n",
       "      <th>children</th>\n",
       "      <th>babies</th>\n",
       "      <th>meal</th>\n",
       "      <th>...</th>\n",
       "      <th>distribution_channel</th>\n",
       "      <th>is_repeated_guest</th>\n",
       "      <th>previous_cancellations</th>\n",
       "      <th>previous_bookings_not_canceled</th>\n",
       "      <th>assigned_room_type</th>\n",
       "      <th>booking_changes</th>\n",
       "      <th>deposit_type</th>\n",
       "      <th>days_in_waiting_list</th>\n",
       "      <th>customer_type</th>\n",
       "      <th>adr</th>\n",
       "    </tr>\n",
       "  </thead>\n",
       "  <tbody>\n",
       "    <tr>\n",
       "      <th>0</th>\n",
       "      <td>Resort Hotel</td>\n",
       "      <td>0.0</td>\n",
       "      <td>7.0</td>\n",
       "      <td>July</td>\n",
       "      <td>0.0</td>\n",
       "      <td>1.0</td>\n",
       "      <td>1.0</td>\n",
       "      <td>0.0</td>\n",
       "      <td>0.0</td>\n",
       "      <td>BB</td>\n",
       "      <td>...</td>\n",
       "      <td>Direct</td>\n",
       "      <td>0.0</td>\n",
       "      <td>0.0</td>\n",
       "      <td>0.0</td>\n",
       "      <td>C</td>\n",
       "      <td>0.0</td>\n",
       "      <td>No Deposit</td>\n",
       "      <td>0.0</td>\n",
       "      <td>Transient</td>\n",
       "      <td>75.00</td>\n",
       "    </tr>\n",
       "    <tr>\n",
       "      <th>1</th>\n",
       "      <td>Resort Hotel</td>\n",
       "      <td>0.0</td>\n",
       "      <td>13.0</td>\n",
       "      <td>July</td>\n",
       "      <td>0.0</td>\n",
       "      <td>1.0</td>\n",
       "      <td>1.0</td>\n",
       "      <td>0.0</td>\n",
       "      <td>0.0</td>\n",
       "      <td>BB</td>\n",
       "      <td>...</td>\n",
       "      <td>Corporate</td>\n",
       "      <td>0.0</td>\n",
       "      <td>0.0</td>\n",
       "      <td>0.0</td>\n",
       "      <td>A</td>\n",
       "      <td>0.0</td>\n",
       "      <td>No Deposit</td>\n",
       "      <td>0.0</td>\n",
       "      <td>Transient</td>\n",
       "      <td>75.00</td>\n",
       "    </tr>\n",
       "    <tr>\n",
       "      <th>2</th>\n",
       "      <td>Resort Hotel</td>\n",
       "      <td>0.0</td>\n",
       "      <td>14.0</td>\n",
       "      <td>July</td>\n",
       "      <td>0.0</td>\n",
       "      <td>2.0</td>\n",
       "      <td>2.0</td>\n",
       "      <td>0.0</td>\n",
       "      <td>0.0</td>\n",
       "      <td>BB</td>\n",
       "      <td>...</td>\n",
       "      <td>TA/TO</td>\n",
       "      <td>0.0</td>\n",
       "      <td>0.0</td>\n",
       "      <td>0.0</td>\n",
       "      <td>A</td>\n",
       "      <td>0.0</td>\n",
       "      <td>No Deposit</td>\n",
       "      <td>0.0</td>\n",
       "      <td>Transient</td>\n",
       "      <td>98.00</td>\n",
       "    </tr>\n",
       "    <tr>\n",
       "      <th>3</th>\n",
       "      <td>Resort Hotel</td>\n",
       "      <td>0.0</td>\n",
       "      <td>14.0</td>\n",
       "      <td>July</td>\n",
       "      <td>0.0</td>\n",
       "      <td>2.0</td>\n",
       "      <td>2.0</td>\n",
       "      <td>0.0</td>\n",
       "      <td>0.0</td>\n",
       "      <td>BB</td>\n",
       "      <td>...</td>\n",
       "      <td>TA/TO</td>\n",
       "      <td>0.0</td>\n",
       "      <td>0.0</td>\n",
       "      <td>0.0</td>\n",
       "      <td>A</td>\n",
       "      <td>0.0</td>\n",
       "      <td>No Deposit</td>\n",
       "      <td>0.0</td>\n",
       "      <td>Transient</td>\n",
       "      <td>98.00</td>\n",
       "    </tr>\n",
       "    <tr>\n",
       "      <th>4</th>\n",
       "      <td>Resort Hotel</td>\n",
       "      <td>0.0</td>\n",
       "      <td>0.0</td>\n",
       "      <td>July</td>\n",
       "      <td>0.0</td>\n",
       "      <td>2.0</td>\n",
       "      <td>2.0</td>\n",
       "      <td>0.0</td>\n",
       "      <td>0.0</td>\n",
       "      <td>BB</td>\n",
       "      <td>...</td>\n",
       "      <td>NaN</td>\n",
       "      <td>0.0</td>\n",
       "      <td>0.0</td>\n",
       "      <td>0.0</td>\n",
       "      <td>C</td>\n",
       "      <td>0.0</td>\n",
       "      <td>No Deposit</td>\n",
       "      <td>0.0</td>\n",
       "      <td>Transient</td>\n",
       "      <td>107.00</td>\n",
       "    </tr>\n",
       "    <tr>\n",
       "      <th>...</th>\n",
       "      <td>...</td>\n",
       "      <td>...</td>\n",
       "      <td>...</td>\n",
       "      <td>...</td>\n",
       "      <td>...</td>\n",
       "      <td>...</td>\n",
       "      <td>...</td>\n",
       "      <td>...</td>\n",
       "      <td>...</td>\n",
       "      <td>...</td>\n",
       "      <td>...</td>\n",
       "      <td>...</td>\n",
       "      <td>...</td>\n",
       "      <td>...</td>\n",
       "      <td>...</td>\n",
       "      <td>...</td>\n",
       "      <td>...</td>\n",
       "      <td>...</td>\n",
       "      <td>...</td>\n",
       "      <td>...</td>\n",
       "      <td>...</td>\n",
       "    </tr>\n",
       "    <tr>\n",
       "      <th>115405</th>\n",
       "      <td>City Hotel</td>\n",
       "      <td>0.0</td>\n",
       "      <td>21.0</td>\n",
       "      <td>August</td>\n",
       "      <td>2.0</td>\n",
       "      <td>5.0</td>\n",
       "      <td>2.0</td>\n",
       "      <td>0.0</td>\n",
       "      <td>0.0</td>\n",
       "      <td>BB</td>\n",
       "      <td>...</td>\n",
       "      <td>TA/TO</td>\n",
       "      <td>0.0</td>\n",
       "      <td>0.0</td>\n",
       "      <td>0.0</td>\n",
       "      <td>A</td>\n",
       "      <td>0.0</td>\n",
       "      <td>No Deposit</td>\n",
       "      <td>0.0</td>\n",
       "      <td>Transient</td>\n",
       "      <td>96.14</td>\n",
       "    </tr>\n",
       "    <tr>\n",
       "      <th>115406</th>\n",
       "      <td>City Hotel</td>\n",
       "      <td>0.0</td>\n",
       "      <td>23.0</td>\n",
       "      <td>August</td>\n",
       "      <td>2.0</td>\n",
       "      <td>5.0</td>\n",
       "      <td>2.0</td>\n",
       "      <td>0.0</td>\n",
       "      <td>0.0</td>\n",
       "      <td>BB</td>\n",
       "      <td>...</td>\n",
       "      <td>TA/TO</td>\n",
       "      <td>0.0</td>\n",
       "      <td>0.0</td>\n",
       "      <td>0.0</td>\n",
       "      <td>A</td>\n",
       "      <td>0.0</td>\n",
       "      <td>No Deposit</td>\n",
       "      <td>0.0</td>\n",
       "      <td>Transient</td>\n",
       "      <td>96.14</td>\n",
       "    </tr>\n",
       "    <tr>\n",
       "      <th>115407</th>\n",
       "      <td>City Hotel</td>\n",
       "      <td>0.0</td>\n",
       "      <td>102.0</td>\n",
       "      <td>August</td>\n",
       "      <td>2.0</td>\n",
       "      <td>5.0</td>\n",
       "      <td>3.0</td>\n",
       "      <td>0.0</td>\n",
       "      <td>0.0</td>\n",
       "      <td>BB</td>\n",
       "      <td>...</td>\n",
       "      <td>TA/TO</td>\n",
       "      <td>0.0</td>\n",
       "      <td>0.0</td>\n",
       "      <td>0.0</td>\n",
       "      <td>E</td>\n",
       "      <td>0.0</td>\n",
       "      <td>No Deposit</td>\n",
       "      <td>0.0</td>\n",
       "      <td>Transient</td>\n",
       "      <td>225.43</td>\n",
       "    </tr>\n",
       "    <tr>\n",
       "      <th>115408</th>\n",
       "      <td>City Hotel</td>\n",
       "      <td>0.0</td>\n",
       "      <td>34.0</td>\n",
       "      <td>August</td>\n",
       "      <td>2.0</td>\n",
       "      <td>5.0</td>\n",
       "      <td>2.0</td>\n",
       "      <td>0.0</td>\n",
       "      <td>0.0</td>\n",
       "      <td>BB</td>\n",
       "      <td>...</td>\n",
       "      <td>TA/TO</td>\n",
       "      <td>0.0</td>\n",
       "      <td>0.0</td>\n",
       "      <td>0.0</td>\n",
       "      <td>D</td>\n",
       "      <td>0.0</td>\n",
       "      <td>No Deposit</td>\n",
       "      <td>0.0</td>\n",
       "      <td>Transient</td>\n",
       "      <td>157.71</td>\n",
       "    </tr>\n",
       "    <tr>\n",
       "      <th>115409</th>\n",
       "      <td>City Hotel</td>\n",
       "      <td>0.0</td>\n",
       "      <td>205.0</td>\n",
       "      <td>August</td>\n",
       "      <td>2.0</td>\n",
       "      <td>7.0</td>\n",
       "      <td>2.0</td>\n",
       "      <td>0.0</td>\n",
       "      <td>0.0</td>\n",
       "      <td>HB</td>\n",
       "      <td>...</td>\n",
       "      <td>TA/TO</td>\n",
       "      <td>0.0</td>\n",
       "      <td>0.0</td>\n",
       "      <td>0.0</td>\n",
       "      <td>A</td>\n",
       "      <td>0.0</td>\n",
       "      <td>No Deposit</td>\n",
       "      <td>0.0</td>\n",
       "      <td>Transient</td>\n",
       "      <td>151.20</td>\n",
       "    </tr>\n",
       "  </tbody>\n",
       "</table>\n",
       "<p>115410 rows × 21 columns</p>\n",
       "</div>"
      ],
      "text/plain": [
       "               hotel  is_canceled  lead_time arrival_date_month  \\\n",
       "0       Resort Hotel          0.0        7.0               July   \n",
       "1       Resort Hotel          0.0       13.0               July   \n",
       "2       Resort Hotel          0.0       14.0               July   \n",
       "3       Resort Hotel          0.0       14.0               July   \n",
       "4       Resort Hotel          0.0        0.0               July   \n",
       "...              ...          ...        ...                ...   \n",
       "115405    City Hotel          0.0       21.0             August   \n",
       "115406    City Hotel          0.0       23.0             August   \n",
       "115407    City Hotel          0.0      102.0             August   \n",
       "115408    City Hotel          0.0       34.0             August   \n",
       "115409    City Hotel          0.0      205.0             August   \n",
       "\n",
       "        stays_in_weekend_nights  stays_in_week_nights  adults  children  \\\n",
       "0                           0.0                   1.0     1.0       0.0   \n",
       "1                           0.0                   1.0     1.0       0.0   \n",
       "2                           0.0                   2.0     2.0       0.0   \n",
       "3                           0.0                   2.0     2.0       0.0   \n",
       "4                           0.0                   2.0     2.0       0.0   \n",
       "...                         ...                   ...     ...       ...   \n",
       "115405                      2.0                   5.0     2.0       0.0   \n",
       "115406                      2.0                   5.0     2.0       0.0   \n",
       "115407                      2.0                   5.0     3.0       0.0   \n",
       "115408                      2.0                   5.0     2.0       0.0   \n",
       "115409                      2.0                   7.0     2.0       0.0   \n",
       "\n",
       "        babies meal  ... distribution_channel is_repeated_guest  \\\n",
       "0          0.0   BB  ...               Direct               0.0   \n",
       "1          0.0   BB  ...            Corporate               0.0   \n",
       "2          0.0   BB  ...                TA/TO               0.0   \n",
       "3          0.0   BB  ...                TA/TO               0.0   \n",
       "4          0.0   BB  ...                  NaN               0.0   \n",
       "...        ...  ...  ...                  ...               ...   \n",
       "115405     0.0   BB  ...                TA/TO               0.0   \n",
       "115406     0.0   BB  ...                TA/TO               0.0   \n",
       "115407     0.0   BB  ...                TA/TO               0.0   \n",
       "115408     0.0   BB  ...                TA/TO               0.0   \n",
       "115409     0.0   HB  ...                TA/TO               0.0   \n",
       "\n",
       "        previous_cancellations  previous_bookings_not_canceled  \\\n",
       "0                          0.0                             0.0   \n",
       "1                          0.0                             0.0   \n",
       "2                          0.0                             0.0   \n",
       "3                          0.0                             0.0   \n",
       "4                          0.0                             0.0   \n",
       "...                        ...                             ...   \n",
       "115405                     0.0                             0.0   \n",
       "115406                     0.0                             0.0   \n",
       "115407                     0.0                             0.0   \n",
       "115408                     0.0                             0.0   \n",
       "115409                     0.0                             0.0   \n",
       "\n",
       "        assigned_room_type booking_changes  deposit_type days_in_waiting_list  \\\n",
       "0                        C             0.0    No Deposit                  0.0   \n",
       "1                        A             0.0    No Deposit                  0.0   \n",
       "2                        A             0.0    No Deposit                  0.0   \n",
       "3                        A             0.0    No Deposit                  0.0   \n",
       "4                        C             0.0    No Deposit                  0.0   \n",
       "...                    ...             ...           ...                  ...   \n",
       "115405                   A             0.0    No Deposit                  0.0   \n",
       "115406                   A             0.0    No Deposit                  0.0   \n",
       "115407                   E             0.0    No Deposit                  0.0   \n",
       "115408                   D             0.0    No Deposit                  0.0   \n",
       "115409                   A             0.0    No Deposit                  0.0   \n",
       "\n",
       "        customer_type     adr  \n",
       "0           Transient   75.00  \n",
       "1           Transient   75.00  \n",
       "2           Transient   98.00  \n",
       "3           Transient   98.00  \n",
       "4           Transient  107.00  \n",
       "...               ...     ...  \n",
       "115405      Transient   96.14  \n",
       "115406      Transient   96.14  \n",
       "115407      Transient  225.43  \n",
       "115408      Transient  157.71  \n",
       "115409      Transient  151.20  \n",
       "\n",
       "[115410 rows x 21 columns]"
      ]
     },
     "execution_count": 17,
     "metadata": {},
     "output_type": "execute_result"
    }
   ],
   "source": [
    "hotel_df.dropna(subset=['is_canceled'], inplace=True)\n",
    "hotel_df.reset_index(drop=True, inplace=True)\n",
    "hotel_df"
   ]
  },
  {
   "cell_type": "markdown",
   "metadata": {},
   "source": [
    "##### B) Numerical column missing values"
   ]
  },
  {
   "cell_type": "markdown",
   "metadata": {},
   "source": [
    "For all the missing values in the numerical columns, we will impute the median of the column. However, we will calculate separate medians for the canceled vs. not canceled reservations. We are using median (versus mean) because the mean is easily skewed by extreme outliers."
   ]
  },
  {
   "cell_type": "code",
   "execution_count": 18,
   "metadata": {},
   "outputs": [],
   "source": [
    "hotel_df['lead_time'] = hotel_df['lead_time'].fillna(hotel_df.groupby('is_canceled')['lead_time'].transform('median'))\n",
    "\n",
    "hotel_df['stays_in_weekend_nights'] = hotel_df['stays_in_weekend_nights'].fillna(hotel_df.groupby('is_canceled')['stays_in_weekend_nights'].transform('median'))\n",
    "\n",
    "hotel_df['stays_in_week_nights'] = hotel_df['stays_in_week_nights'].fillna(hotel_df.groupby('is_canceled')['stays_in_week_nights'].transform('median'))\n",
    "\n",
    "hotel_df['adults'] = hotel_df['adults'].fillna(hotel_df.groupby('is_canceled')['adults'].transform('median'))\n",
    "\n",
    "hotel_df['children'] = hotel_df['children'].fillna(hotel_df.groupby('is_canceled')['children'].transform('median'))\n",
    "\n",
    "hotel_df['babies'] = hotel_df['babies'].fillna(hotel_df.groupby('is_canceled')['babies'].transform('median'))\n",
    "\n",
    "hotel_df['is_repeated_guest'] = hotel_df['is_repeated_guest'].fillna(hotel_df.groupby('is_canceled')['is_repeated_guest'].transform('median'))\n",
    "\n",
    "hotel_df['previous_cancellations'] = hotel_df['previous_cancellations'].fillna(hotel_df.groupby('is_canceled')['previous_cancellations'].transform('median'))\n",
    "\n",
    "hotel_df['previous_bookings_not_canceled'] = hotel_df['previous_bookings_not_canceled'].fillna(hotel_df.groupby('is_canceled')['previous_bookings_not_canceled'].transform('median'))\n",
    "\n",
    "hotel_df['booking_changes'] = hotel_df['booking_changes'].fillna(hotel_df.groupby('is_canceled')['booking_changes'].transform('median'))\n",
    "\n",
    "hotel_df['days_in_waiting_list'] = hotel_df['days_in_waiting_list'].fillna(hotel_df.groupby('is_canceled')['days_in_waiting_list'].transform('median'))\n",
    "\n",
    "hotel_df['adr'] = hotel_df['adr'].fillna(hotel_df.groupby('is_canceled')['adr'].transform('median'))\n"
   ]
  },
  {
   "cell_type": "markdown",
   "metadata": {},
   "source": [
    "##### C) Categorical column missing values"
   ]
  },
  {
   "cell_type": "markdown",
   "metadata": {},
   "source": [
    "For categorical columns, we will simply impute the most common class, without distinguishing by the value for the is_canceled column. The value differences are likely minor, and the main focus of this project is using machine learning algorithms."
   ]
  },
  {
   "cell_type": "code",
   "execution_count": 19,
   "metadata": {
    "scrolled": false
   },
   "outputs": [
    {
     "data": {
      "text/plain": [
       "hotel                             0\n",
       "is_canceled                       0\n",
       "lead_time                         0\n",
       "arrival_date_month                0\n",
       "stays_in_weekend_nights           0\n",
       "stays_in_week_nights              0\n",
       "adults                            0\n",
       "children                          0\n",
       "babies                            0\n",
       "meal                              0\n",
       "country                           0\n",
       "distribution_channel              0\n",
       "is_repeated_guest                 0\n",
       "previous_cancellations            0\n",
       "previous_bookings_not_canceled    0\n",
       "assigned_room_type                0\n",
       "booking_changes                   0\n",
       "deposit_type                      0\n",
       "days_in_waiting_list              0\n",
       "customer_type                     0\n",
       "adr                               0\n",
       "dtype: int64"
      ]
     },
     "execution_count": 19,
     "metadata": {},
     "output_type": "execute_result"
    }
   ],
   "source": [
    "hotel_df = hotel_df.apply(lambda x: x.fillna(x.value_counts().index[0]))\n",
    "hotel_df.isna().sum()"
   ]
  },
  {
   "cell_type": "markdown",
   "metadata": {},
   "source": [
    "#### Step 6) Convert column data types"
   ]
  },
  {
   "cell_type": "code",
   "execution_count": 20,
   "metadata": {},
   "outputs": [],
   "source": [
    "    # convert categorical variables\n",
    "# have to convert arrival_date_year to 'int64' first to get rid of decimal place\n",
    "hotel_df = hotel_df.astype(\n",
    "    {'hotel' : 'category',\n",
    "    'is_canceled' : 'uint8',\n",
    "    'lead_time' : 'int64',\n",
    "    'arrival_date_month' : 'category',\n",
    "    'stays_in_weekend_nights' : 'int64',\n",
    "    'stays_in_week_nights' : 'int64',\n",
    "    'adults' : 'int64', 'children' : 'int64', 'babies' : 'int64',\n",
    "    'meal' : 'category', \n",
    "    'country' : 'category',\n",
    "    'distribution_channel' : 'category', \n",
    "    'is_repeated_guest' : 'uint8',\n",
    "    'previous_cancellations' : 'int64', \n",
    "    'previous_bookings_not_canceled' : 'int64',\n",
    "    'assigned_room_type' : 'category', \n",
    "    'booking_changes' : 'int64', \n",
    "    'deposit_type' : 'category',\n",
    "    'days_in_waiting_list' : 'int64', \n",
    "    'customer_type' : 'category', \n",
    "    'adr' : 'int64'\n",
    "})\n",
    "\n",
    "#hotel_df.info()\n"
   ]
  },
  {
   "cell_type": "markdown",
   "metadata": {},
   "source": [
    "#### Step 7) Collapse 'country' column"
   ]
  },
  {
   "cell_type": "markdown",
   "metadata": {},
   "source": [
    "We currently have 176 unique values in the 'country' column. Obviously one-hot encoding would lead to more columns than would be ideal. Increasing the number of columns in a dataset leads to a sparse dataset, which isn't ideal for many machine learning algorithms. So, we are collapsing this categorical column. We are doing this by grouping all countries that appear less than 10,000 times in this dataset."
   ]
  },
  {
   "cell_type": "code",
   "execution_count": 21,
   "metadata": {},
   "outputs": [
    {
     "data": {
      "text/html": [
       "<div>\n",
       "<style scoped>\n",
       "    .dataframe tbody tr th:only-of-type {\n",
       "        vertical-align: middle;\n",
       "    }\n",
       "\n",
       "    .dataframe tbody tr th {\n",
       "        vertical-align: top;\n",
       "    }\n",
       "\n",
       "    .dataframe thead th {\n",
       "        text-align: right;\n",
       "    }\n",
       "</style>\n",
       "<table border=\"1\" class=\"dataframe\">\n",
       "  <thead>\n",
       "    <tr style=\"text-align: right;\">\n",
       "      <th></th>\n",
       "      <th>index</th>\n",
       "      <th>country</th>\n",
       "    </tr>\n",
       "  </thead>\n",
       "  <tbody>\n",
       "    <tr>\n",
       "      <th>0</th>\n",
       "      <td>PRT</td>\n",
       "      <td>47847</td>\n",
       "    </tr>\n",
       "    <tr>\n",
       "      <th>1</th>\n",
       "      <td>GBR</td>\n",
       "      <td>11673</td>\n",
       "    </tr>\n",
       "    <tr>\n",
       "      <th>2</th>\n",
       "      <td>FRA</td>\n",
       "      <td>10018</td>\n",
       "    </tr>\n",
       "    <tr>\n",
       "      <th>3</th>\n",
       "      <td>ESP</td>\n",
       "      <td>8201</td>\n",
       "    </tr>\n",
       "    <tr>\n",
       "      <th>4</th>\n",
       "      <td>DEU</td>\n",
       "      <td>7002</td>\n",
       "    </tr>\n",
       "    <tr>\n",
       "      <th>...</th>\n",
       "      <td>...</td>\n",
       "      <td>...</td>\n",
       "    </tr>\n",
       "    <tr>\n",
       "      <th>172</th>\n",
       "      <td>NAM</td>\n",
       "      <td>1</td>\n",
       "    </tr>\n",
       "    <tr>\n",
       "      <th>173</th>\n",
       "      <td>NCL</td>\n",
       "      <td>1</td>\n",
       "    </tr>\n",
       "    <tr>\n",
       "      <th>174</th>\n",
       "      <td>DMA</td>\n",
       "      <td>1</td>\n",
       "    </tr>\n",
       "    <tr>\n",
       "      <th>175</th>\n",
       "      <td>NIC</td>\n",
       "      <td>1</td>\n",
       "    </tr>\n",
       "    <tr>\n",
       "      <th>176</th>\n",
       "      <td>BHS</td>\n",
       "      <td>1</td>\n",
       "    </tr>\n",
       "  </tbody>\n",
       "</table>\n",
       "<p>177 rows × 2 columns</p>\n",
       "</div>"
      ],
      "text/plain": [
       "    index  country\n",
       "0     PRT    47847\n",
       "1     GBR    11673\n",
       "2     FRA    10018\n",
       "3     ESP     8201\n",
       "4     DEU     7002\n",
       "..    ...      ...\n",
       "172   NAM        1\n",
       "173   NCL        1\n",
       "174   DMA        1\n",
       "175   NIC        1\n",
       "176   BHS        1\n",
       "\n",
       "[177 rows x 2 columns]"
      ]
     },
     "execution_count": 21,
     "metadata": {},
     "output_type": "execute_result"
    }
   ],
   "source": [
    "    # dataframe of all unique countrues & how often they appear\n",
    "unique_countries = pd.DataFrame(hotel_df['country'].value_counts()).reset_index()\n",
    "unique_countries"
   ]
  },
  {
   "cell_type": "code",
   "execution_count": 22,
   "metadata": {},
   "outputs": [],
   "source": [
    "    # dataframe of countries that appear less than 9,000 times\n",
    "    # this will result in 4 groups, which is manageable for a model\n",
    "group_countries = unique_countries[unique_countries['country'] <= 9000]\n",
    "\n",
    "    # list of countries from above dataframe\n",
    "country_list = group_countries['index'].to_list()\n",
    "\n",
    "    # dictionary of those countries\n",
    "group1 = {'Other' : country_list}"
   ]
  },
  {
   "cell_type": "code",
   "execution_count": 23,
   "metadata": {},
   "outputs": [
    {
     "data": {
      "text/plain": [
       "4"
      ]
     },
     "execution_count": 23,
     "metadata": {},
     "output_type": "execute_result"
    }
   ],
   "source": [
    "    # collapsing those countries\n",
    "hotel_df['country'] = pycats.cat_collapse(hotel_df['country'], group1)\n",
    "hotel_df['country'].nunique()"
   ]
  },
  {
   "cell_type": "markdown",
   "metadata": {},
   "source": [
    "#### Step 8) Combine 'children' and 'babies'"
   ]
  },
  {
   "cell_type": "code",
   "execution_count": 24,
   "metadata": {},
   "outputs": [],
   "source": [
    "hotel_df['under_18'] = hotel_df['children'] + hotel_df['babies']\n",
    "\n",
    "    #delete 'children' & 'babies' column since it's already captured\n",
    "hotel_df.drop(['children', 'babies'], axis=1, inplace=True)"
   ]
  },
  {
   "cell_type": "markdown",
   "metadata": {},
   "source": [
    "## Exploratory Visualization"
   ]
  },
  {
   "cell_type": "markdown",
   "metadata": {},
   "source": [
    "Is 'deposit_type' potentially an important predictor variable in determining whether a reservation is cancelled?"
   ]
  },
  {
   "cell_type": "code",
   "execution_count": 25,
   "metadata": {},
   "outputs": [
    {
     "data": {
      "text/html": [
       "<div>\n",
       "<style scoped>\n",
       "    .dataframe tbody tr th:only-of-type {\n",
       "        vertical-align: middle;\n",
       "    }\n",
       "\n",
       "    .dataframe tbody tr th {\n",
       "        vertical-align: top;\n",
       "    }\n",
       "\n",
       "    .dataframe thead th {\n",
       "        text-align: right;\n",
       "    }\n",
       "</style>\n",
       "<table border=\"1\" class=\"dataframe\">\n",
       "  <thead>\n",
       "    <tr style=\"text-align: right;\">\n",
       "      <th></th>\n",
       "      <th>deposit_type</th>\n",
       "      <th>Count by Deposit Type</th>\n",
       "      <th>Percentage</th>\n",
       "    </tr>\n",
       "  </thead>\n",
       "  <tbody>\n",
       "    <tr>\n",
       "      <th>0</th>\n",
       "      <td>No Deposit</td>\n",
       "      <td>101172</td>\n",
       "      <td>28.886451</td>\n",
       "    </tr>\n",
       "    <tr>\n",
       "      <th>1</th>\n",
       "      <td>Non Refund</td>\n",
       "      <td>14080</td>\n",
       "      <td>99.346591</td>\n",
       "    </tr>\n",
       "    <tr>\n",
       "      <th>2</th>\n",
       "      <td>Refundable</td>\n",
       "      <td>158</td>\n",
       "      <td>21.518987</td>\n",
       "    </tr>\n",
       "  </tbody>\n",
       "</table>\n",
       "</div>"
      ],
      "text/plain": [
       "  deposit_type  Count by Deposit Type  Percentage\n",
       "0   No Deposit                 101172   28.886451\n",
       "1   Non Refund                  14080   99.346591\n",
       "2   Refundable                    158   21.518987"
      ]
     },
     "execution_count": 25,
     "metadata": {},
     "output_type": "execute_result"
    }
   ],
   "source": [
    "    # step 1: generate granular counts\n",
    "table1 = hotel_df[['deposit_type', 'is_canceled']]\n",
    "table1a = table1.groupby(['deposit_type', 'is_canceled']).size().rename('Granular Count').to_frame()\n",
    "table1a\n",
    "\n",
    "    # step 2: generate counts by deposit type\n",
    "table1b = hotel_df[['deposit_type', 'is_canceled']]\n",
    "table1b = table1b.groupby('deposit_type').count()\n",
    "table1b.rename(columns={'is_canceled' : 'Count by Deposit Type'}, inplace=True)\n",
    "\n",
    "    # step 3: join dataframes & calculate percentages\n",
    "table1c = table1a.join(table1b, on='deposit_type')\n",
    "table1c['Percentage'] = (table1c['Granular Count'] / table1c['Count by Deposit Type']) * 100\n",
    "table1c\n",
    "\n",
    "    # step 4: cut down to what I need\n",
    "plot1 = table1c.copy()\n",
    "plot1.reset_index(inplace=True)\n",
    "plot1 = plot1[plot1['is_canceled'] == 1]\n",
    "plot1.reset_index(inplace=True)\n",
    "plot1 = plot1[['deposit_type', 'Count by Deposit Type', 'Percentage']]\n",
    "plot1"
   ]
  },
  {
   "cell_type": "code",
   "execution_count": 26,
   "metadata": {},
   "outputs": [
    {
     "data": {
      "image/png": "[encoded data removed]",
      "text/plain": [
       "<Figure size 720x432 with 1 Axes>"
      ]
     },
     "metadata": {
      "needs_background": "light"
     },
     "output_type": "display_data"
    }
   ],
   "source": [
    "    # step 5: plot\n",
    "objects = ('No Deposit', 'Non Refund', 'Refundable')\n",
    "y_pos = np.arange(len(objects))\n",
    "performance = [28.89, 99.37, 21.52]\n",
    "\n",
    "fig, ax = plt.subplots(figsize=(10,6))\n",
    "ax.bar(y_pos, performance, alpha=0.5)\n",
    "#plt.bar(y_pos, performance, align='center', alpha=0.5)\n",
    "plt.xticks(y_pos, objects)\n",
    "plt.ylabel('Percentage cancelled reservations')\n",
    "plt.title('Reservation Cancellation by Deposit Type')\n",
    "\n",
    "ax.text(-0.25, 35, 'No Deposit\\nsample size:\\n   101,289')\n",
    "ax.text(0.75, 35, 'Non Refund\\nsample size:\\n     14,098')\n",
    "ax.text(1.75, 35, 'Refundable\\nsample size:\\n     158')\n",
    "\n",
    "plt.show()"
   ]
  },
  {
   "cell_type": "markdown",
   "metadata": {},
   "source": [
    "Clearly it looks like a deposit type of Non-Refundable is highly associated with a reservation cancellation. Nearly all non-refundable reservations were cancelled. This is counterintuitive, as you would expect non-refundable reservations to be less likely to be cancelled."
   ]
  },
  {
   "cell_type": "markdown",
   "metadata": {},
   "source": [
    "## Evaluation Metric Decision"
   ]
  },
  {
   "cell_type": "markdown",
   "metadata": {},
   "source": [
    "In order to decide on a good evaluation metric, we need to decide if we are more interested in correctly predicting a case of a cancelled booking vs. not cancelled booking.\n",
    "\n",
    "Let's first see what proportion of the target variable is cancelled vs. not cancelled."
   ]
  },
  {
   "cell_type": "code",
   "execution_count": 27,
   "metadata": {},
   "outputs": [
    {
     "name": "stdout",
     "output_type": "stream",
     "text": [
      "Percentage of cancelled reservations: 37.4725 %\n"
     ]
    }
   ],
   "source": [
    "hotel_df['is_canceled'].value_counts()\n",
    "percent_cancelled = ( (hotel_df[hotel_df['is_canceled'] == 1].count()['is_canceled']) / hotel_df.shape[0] * 100)\n",
    "print(\"Percentage of cancelled reservations: {:.4f} %\".format(percent_cancelled))"
   ]
  },
  {
   "cell_type": "markdown",
   "metadata": {},
   "source": [
    "We can see that we have an imbalanced data set - only about 37% of observations have an 'is_canceled' value of 1, which means the booking did get cancelled. Since the project objective is to predict a cancellation, we want a model that predicts the positive values better than a baseline model. In other words, we are interested in precision and recall (also known as sensitivity). \n",
    "\n",
    "Precision answers the question: what percentage of selected observations are relevant? Its calculation is: true positive/(true positive + false positive). The higher the precision, the lower the number of false *positives* in the model. Recall (or sensitivity), on the other hand, answers the question: what percentage of relevant observations are selected? The higher the recall rate, the lower the number of false *negatives* in the model.\n",
    "\n",
    "Obviously, we want to minimize the both the number of false positives and false negatives in our model. But let's think about which carries a greater a cost to the hotel. From a business perspective, the cost of a false positive is none to minimal. For predicted cancellations, a hotel staff member can call 24 hours in advance to confirm the reservation. If the guest decides to cancel, the hotel now has a vacancy that can go to another customer. And if the guest confirms the reservation, we're good to go. In short, for false positives, nothing is lost except the one to two minutes it takes to make the call. \n",
    "\n",
    "However, the consequence of a false negative is that the individual won't receive a confirmation call 24 hours in advance. The cost to the hotel is the lost revenue. If the hotel had known about this potential cancellation beforehand, they could have called the customer beforehand to prevent a situation where the cancellation is made too late for the room to go to another customer. So, the *cost of a false negative is more significant than that of a false positive.*\n",
    "\n",
    "Since we care more about false negatives, we are more concerned with recall than we are with precision. Hence, the chosen evaluation metric is recall. Our goal is to produce a model with a __high recall__ rate."
   ]
  },
  {
   "cell_type": "markdown",
   "metadata": {},
   "source": [
    "## Machine Learning Algorithms"
   ]
  },
  {
   "cell_type": "markdown",
   "metadata": {},
   "source": [
    "### Model 1: KNN Classification"
   ]
  },
  {
   "cell_type": "code",
   "execution_count": 28,
   "metadata": {},
   "outputs": [],
   "source": [
    "from sklearn.neighbors import KNeighborsClassifier"
   ]
  },
  {
   "cell_type": "code",
   "execution_count": 29,
   "metadata": {},
   "outputs": [],
   "source": [
    "hotel_knn = hotel_df.copy()"
   ]
  },
  {
   "cell_type": "code",
   "execution_count": 30,
   "metadata": {},
   "outputs": [],
   "source": [
    "    # one hot encode the categorical variables\n",
    "hotel_knn = pd.get_dummies(hotel_knn, columns = ['hotel'], prefix='hotel')\n",
    "hotel_knn = pd.get_dummies(hotel_knn, columns = ['arrival_date_month'], prefix='month')\n",
    "hotel_knn = pd.get_dummies(hotel_knn, columns = ['meal'], prefix='meal')\n",
    "hotel_knn = pd.get_dummies(hotel_knn, columns = ['country'], prefix='country')\n",
    "hotel_knn = pd.get_dummies(hotel_knn, columns = ['distribution_channel'], prefix='distr')\n",
    "hotel_knn = pd.get_dummies(hotel_knn, columns = ['assigned_room_type'], prefix='room')\n",
    "hotel_knn = pd.get_dummies(hotel_knn, columns = ['deposit_type'], prefix='deposit')\n",
    "hotel_knn = pd.get_dummies(hotel_knn, columns = ['customer_type'], prefix='cust')\n",
    "#hotel_knn.info()"
   ]
  },
  {
   "cell_type": "markdown",
   "metadata": {},
   "source": [
    "Column rearrangement"
   ]
  },
  {
   "cell_type": "code",
   "execution_count": 31,
   "metadata": {},
   "outputs": [],
   "source": [
    "hotel_knn.insert(5, 'under_18', hotel_knn.pop('under_18'))\n",
    "hotel_knn.insert(11, 'is_repeated_guest', hotel_knn.pop('is_repeated_guest'))\n",
    "#hotel_knn.info()"
   ]
  },
  {
   "cell_type": "markdown",
   "metadata": {},
   "source": [
    "Need to take random sample, as the current data set is too large to run on a normal computer. We also make sure that the proportion of cancelled reservations is similar to the proportion observed in the original data set, which was ~37%."
   ]
  },
  {
   "cell_type": "code",
   "execution_count": 32,
   "metadata": {},
   "outputs": [
    {
     "data": {
      "text/plain": [
       "0    6239\n",
       "1    3761\n",
       "Name: is_canceled, dtype: int64"
      ]
     },
     "execution_count": 32,
     "metadata": {},
     "output_type": "execute_result"
    }
   ],
   "source": [
    "hotel_knn_sample = hotel_knn.sample(n=10000, random_state=321).reset_index(drop=True)\n",
    "#hotel_knn_sample = hotel_knn.sample(n=10000, weights='is_canceled', random_state=0).reset_index(drop=True)\n",
    "hotel_knn_sample['is_canceled'].value_counts()"
   ]
  },
  {
   "cell_type": "markdown",
   "metadata": {},
   "source": [
    "Split into predictor vs. target variables"
   ]
  },
  {
   "cell_type": "code",
   "execution_count": 33,
   "metadata": {
    "scrolled": true
   },
   "outputs": [
    {
     "name": "stdout",
     "output_type": "stream",
     "text": [
      "<class 'pandas.core.frame.DataFrame'>\n",
      "RangeIndex: 10000 entries, 0 to 9999\n",
      "Data columns (total 57 columns):\n",
      " #   Column                          Non-Null Count  Dtype\n",
      "---  ------                          --------------  -----\n",
      " 0   lead_time                       10000 non-null  int64\n",
      " 1   stays_in_weekend_nights         10000 non-null  int64\n",
      " 2   stays_in_week_nights            10000 non-null  int64\n",
      " 3   adults                          10000 non-null  int64\n",
      " 4   under_18                        10000 non-null  int64\n",
      " 5   previous_cancellations          10000 non-null  int64\n",
      " 6   previous_bookings_not_canceled  10000 non-null  int64\n",
      " 7   booking_changes                 10000 non-null  int64\n",
      " 8   days_in_waiting_list            10000 non-null  int64\n",
      " 9   adr                             10000 non-null  int64\n",
      " 10  is_repeated_guest               10000 non-null  uint8\n",
      " 11  hotel_City Hotel                10000 non-null  uint8\n",
      " 12  hotel_Resort Hotel              10000 non-null  uint8\n",
      " 13  month_April                     10000 non-null  uint8\n",
      " 14  month_August                    10000 non-null  uint8\n",
      " 15  month_December                  10000 non-null  uint8\n",
      " 16  month_February                  10000 non-null  uint8\n",
      " 17  month_January                   10000 non-null  uint8\n",
      " 18  month_July                      10000 non-null  uint8\n",
      " 19  month_June                      10000 non-null  uint8\n",
      " 20  month_March                     10000 non-null  uint8\n",
      " 21  month_May                       10000 non-null  uint8\n",
      " 22  month_November                  10000 non-null  uint8\n",
      " 23  month_October                   10000 non-null  uint8\n",
      " 24  month_September                 10000 non-null  uint8\n",
      " 25  meal_BB                         10000 non-null  uint8\n",
      " 26  meal_FB                         10000 non-null  uint8\n",
      " 27  meal_HB                         10000 non-null  uint8\n",
      " 28  meal_SC                         10000 non-null  uint8\n",
      " 29  meal_Undefined                  10000 non-null  uint8\n",
      " 30  country_FRA                     10000 non-null  uint8\n",
      " 31  country_GBR                     10000 non-null  uint8\n",
      " 32  country_Other                   10000 non-null  uint8\n",
      " 33  country_PRT                     10000 non-null  uint8\n",
      " 34  distr_Corporate                 10000 non-null  uint8\n",
      " 35  distr_Direct                    10000 non-null  uint8\n",
      " 36  distr_GDS                       10000 non-null  uint8\n",
      " 37  distr_TA/TO                     10000 non-null  uint8\n",
      " 38  distr_Undefined                 10000 non-null  uint8\n",
      " 39  room_A                          10000 non-null  uint8\n",
      " 40  room_B                          10000 non-null  uint8\n",
      " 41  room_C                          10000 non-null  uint8\n",
      " 42  room_D                          10000 non-null  uint8\n",
      " 43  room_E                          10000 non-null  uint8\n",
      " 44  room_F                          10000 non-null  uint8\n",
      " 45  room_G                          10000 non-null  uint8\n",
      " 46  room_H                          10000 non-null  uint8\n",
      " 47  room_I                          10000 non-null  uint8\n",
      " 48  room_K                          10000 non-null  uint8\n",
      " 49  room_L                          10000 non-null  uint8\n",
      " 50  deposit_No Deposit              10000 non-null  uint8\n",
      " 51  deposit_Non Refund              10000 non-null  uint8\n",
      " 52  deposit_Refundable              10000 non-null  uint8\n",
      " 53  cust_Contract                   10000 non-null  uint8\n",
      " 54  cust_Group                      10000 non-null  uint8\n",
      " 55  cust_Transient                  10000 non-null  uint8\n",
      " 56  cust_Transient-Party            10000 non-null  uint8\n",
      "dtypes: int64(10), uint8(47)\n",
      "memory usage: 1.2 MB\n"
     ]
    }
   ],
   "source": [
    "X = hotel_knn_sample.drop('is_canceled', axis=1)\n",
    "y = hotel_knn_sample['is_canceled']\n",
    "X.info()"
   ]
  },
  {
   "cell_type": "markdown",
   "metadata": {},
   "source": [
    "Train-test split. Setting 'stratify' parameter to target variable so split is proportional. We have an imbalanced data set, so this is important."
   ]
  },
  {
   "cell_type": "code",
   "execution_count": 34,
   "metadata": {},
   "outputs": [],
   "source": [
    "X_train, X_test, y_train, y_test = train_test_split(X, y, stratify=y, random_state = 0, test_size = 0.2)"
   ]
  },
  {
   "cell_type": "markdown",
   "metadata": {},
   "source": [
    "Scale the numerical columns (not the one-hot encoded values)"
   ]
  },
  {
   "cell_type": "code",
   "execution_count": 35,
   "metadata": {},
   "outputs": [],
   "source": [
    "    # Standard Scaler is usually preferred b/c helps you account for outliers & keeps dispersion\n",
    "scaler = StandardScaler()\n",
    "\n",
    "    # fit_transform for train data set, but just the numerical columns, not one-hot encoded columns\n",
    "X_train.iloc[ : , 0:10] = scaler.fit_transform(X_train.iloc[ : , 0:10])\n",
    "X_test.iloc[ : , 0:10] = scaler.transform(X_test.iloc[ : , 0:10])"
   ]
  },
  {
   "cell_type": "markdown",
   "metadata": {},
   "source": [
    "Trying to visually get a range of the ideal number of neighbors."
   ]
  },
  {
   "cell_type": "code",
   "execution_count": 36,
   "metadata": {},
   "outputs": [],
   "source": [
    "train_score_array = []\n",
    "test_score_array = []\n",
    "\n",
    "for k in range(1,21):\n",
    "    knn = KNeighborsClassifier(k)\n",
    "    knn.fit(X_train, y_train)\n",
    "    train_score_array.append(knn.score(X_train, y_train))\n",
    "    test_score_array.append(knn.score(X_test, y_test))"
   ]
  },
  {
   "cell_type": "code",
   "execution_count": 37,
   "metadata": {},
   "outputs": [
    {
     "data": {
      "text/plain": [
       "Text(0, 0.5, 'MSE')"
      ]
     },
     "execution_count": 37,
     "metadata": {},
     "output_type": "execute_result"
    },
    {
     "data": {
      "image/png": "[encoded data removed]",
      "text/plain": [
       "<Figure size 432x288 with 1 Axes>"
      ]
     },
     "metadata": {
      "needs_background": "light"
     },
     "output_type": "display_data"
    }
   ],
   "source": [
    "x_axis = range(1,21,1)\n",
    "plt.plot(x_axis, train_score_array, c = 'g', label = 'Train Score')\n",
    "plt.plot(x_axis, test_score_array, c = 'b', label = 'Test Score')\n",
    "plt.legend()\n",
    "plt.xticks(np.arange(0,21, step=1))\n",
    "plt.xlabel('k')\n",
    "plt.ylabel('MSE')"
   ]
  },
  {
   "cell_type": "markdown",
   "metadata": {},
   "source": [
    "Now we will do a GridSearch to find the true ideal number of neighbors."
   ]
  },
  {
   "cell_type": "code",
   "execution_count": 38,
   "metadata": {},
   "outputs": [],
   "source": [
    "    # let's define the n_neighbors we want the grid search to search through.\n",
    "    # looks like the n_neighbors that will minimize over & underfitting is somewhere between 14 & 21\n",
    "knn_grid_params = {\n",
    "    'n_neighbors': np.arange(14,21,1)\n",
    "}"
   ]
  },
  {
   "cell_type": "code",
   "execution_count": 39,
   "metadata": {},
   "outputs": [],
   "source": [
    "    # want the best parameter to be chosen based on recall score\n",
    "grid_knn = GridSearchCV(\n",
    "    KNeighborsClassifier(),\n",
    "    knn_grid_params, \n",
    "   # scoring='recall',\n",
    "    return_train_score=True,\n",
    "   # verbose = 1,\n",
    "    cv = 5,\n",
    "    n_jobs = -1\n",
    ")"
   ]
  },
  {
   "cell_type": "code",
   "execution_count": 40,
   "metadata": {},
   "outputs": [
    {
     "data": {
      "text/plain": [
       "GridSearchCV(cv=5, error_score=nan,\n",
       "             estimator=KNeighborsClassifier(algorithm='auto', leaf_size=30,\n",
       "                                            metric='minkowski',\n",
       "                                            metric_params=None, n_jobs=None,\n",
       "                                            n_neighbors=5, p=2,\n",
       "                                            weights='uniform'),\n",
       "             iid='deprecated', n_jobs=-1,\n",
       "             param_grid={'n_neighbors': array([14, 15, 16, 17, 18, 19, 20])},\n",
       "             pre_dispatch='2*n_jobs', refit=True, return_train_score=True,\n",
       "             scoring=None, verbose=0)"
      ]
     },
     "execution_count": 40,
     "metadata": {},
     "output_type": "execute_result"
    }
   ],
   "source": [
    "    # fit to train model\n",
    "grid_knn.fit(X_train, y_train)"
   ]
  },
  {
   "cell_type": "code",
   "execution_count": 41,
   "metadata": {},
   "outputs": [
    {
     "data": {
      "text/plain": [
       "{'n_neighbors': 20}"
      ]
     },
     "execution_count": 41,
     "metadata": {},
     "output_type": "execute_result"
    }
   ],
   "source": [
    "grid_knn.best_params_"
   ]
  },
  {
   "cell_type": "markdown",
   "metadata": {},
   "source": [
    "##### KNN Model Evaluation"
   ]
  },
  {
   "cell_type": "code",
   "execution_count": 42,
   "metadata": {},
   "outputs": [
    {
     "data": {
      "text/plain": [
       "array([[1140,  108],\n",
       "       [ 352,  400]], dtype=int64)"
      ]
     },
     "execution_count": 42,
     "metadata": {},
     "output_type": "execute_result"
    }
   ],
   "source": [
    "   # creating y_pred for use with model evaluation calculations\n",
    "y_pred = grid_knn.predict(X_test)\n",
    "confusion_matrix(y_test, y_pred)"
   ]
  },
  {
   "cell_type": "code",
   "execution_count": 43,
   "metadata": {},
   "outputs": [
    {
     "name": "stdout",
     "output_type": "stream",
     "text": [
      "Train score: 0.7895\n",
      "Test score: 0.7700\n",
      "Precision score: 0.7874\n",
      "Recall score: 0.5319\n",
      "F1 score: 0.6349\n"
     ]
    }
   ],
   "source": [
    "print('Train score: {:.4f}'.format(grid_knn.score(X_train, y_train)))\n",
    "print('Test score: {:.4f}'.format(grid_knn.score(X_test, y_test)))\n",
    "\n",
    "print(\"Precision score: {:.4f}\".format(precision_score(y_test, y_pred)))\n",
    "print(\"Recall score: {:.4f}\".format(recall_score(y_test, y_pred)))\n",
    "print(\"F1 score: {:.4f}\".format(f1_score(y_test, y_pred)))"
   ]
  },
  {
   "cell_type": "markdown",
   "metadata": {},
   "source": [
    "In summary, even though KNN gives us healthy train & test scores, the recall score isn't ideal at 54%. Let's look at other models."
   ]
  },
  {
   "cell_type": "markdown",
   "metadata": {},
   "source": [
    "### Model 2: Logistic Regression"
   ]
  },
  {
   "cell_type": "code",
   "execution_count": 44,
   "metadata": {},
   "outputs": [],
   "source": [
    "from sklearn.linear_model import LogisticRegression"
   ]
  },
  {
   "cell_type": "code",
   "execution_count": 45,
   "metadata": {},
   "outputs": [],
   "source": [
    "    # hotel_knn data set is similar to what we need for running log reg, so we can continue using same X & y's\n",
    "hotel_logreg = hotel_knn.copy()    "
   ]
  },
  {
   "cell_type": "code",
   "execution_count": 46,
   "metadata": {},
   "outputs": [
    {
     "name": "stdout",
     "output_type": "stream",
     "text": [
      "<class 'pandas.core.frame.DataFrame'>\n",
      "RangeIndex: 115410 entries, 0 to 115409\n",
      "Data columns (total 57 columns):\n",
      " #   Column                          Non-Null Count   Dtype\n",
      "---  ------                          --------------   -----\n",
      " 0   lead_time                       115410 non-null  int64\n",
      " 1   stays_in_weekend_nights         115410 non-null  int64\n",
      " 2   stays_in_week_nights            115410 non-null  int64\n",
      " 3   adults                          115410 non-null  int64\n",
      " 4   under_18                        115410 non-null  int64\n",
      " 5   previous_cancellations          115410 non-null  int64\n",
      " 6   previous_bookings_not_canceled  115410 non-null  int64\n",
      " 7   booking_changes                 115410 non-null  int64\n",
      " 8   days_in_waiting_list            115410 non-null  int64\n",
      " 9   adr                             115410 non-null  int64\n",
      " 10  is_repeated_guest               115410 non-null  uint8\n",
      " 11  hotel_City Hotel                115410 non-null  uint8\n",
      " 12  hotel_Resort Hotel              115410 non-null  uint8\n",
      " 13  month_April                     115410 non-null  uint8\n",
      " 14  month_August                    115410 non-null  uint8\n",
      " 15  month_December                  115410 non-null  uint8\n",
      " 16  month_February                  115410 non-null  uint8\n",
      " 17  month_January                   115410 non-null  uint8\n",
      " 18  month_July                      115410 non-null  uint8\n",
      " 19  month_June                      115410 non-null  uint8\n",
      " 20  month_March                     115410 non-null  uint8\n",
      " 21  month_May                       115410 non-null  uint8\n",
      " 22  month_November                  115410 non-null  uint8\n",
      " 23  month_October                   115410 non-null  uint8\n",
      " 24  month_September                 115410 non-null  uint8\n",
      " 25  meal_BB                         115410 non-null  uint8\n",
      " 26  meal_FB                         115410 non-null  uint8\n",
      " 27  meal_HB                         115410 non-null  uint8\n",
      " 28  meal_SC                         115410 non-null  uint8\n",
      " 29  meal_Undefined                  115410 non-null  uint8\n",
      " 30  country_FRA                     115410 non-null  uint8\n",
      " 31  country_GBR                     115410 non-null  uint8\n",
      " 32  country_Other                   115410 non-null  uint8\n",
      " 33  country_PRT                     115410 non-null  uint8\n",
      " 34  distr_Corporate                 115410 non-null  uint8\n",
      " 35  distr_Direct                    115410 non-null  uint8\n",
      " 36  distr_GDS                       115410 non-null  uint8\n",
      " 37  distr_TA/TO                     115410 non-null  uint8\n",
      " 38  distr_Undefined                 115410 non-null  uint8\n",
      " 39  room_A                          115410 non-null  uint8\n",
      " 40  room_B                          115410 non-null  uint8\n",
      " 41  room_C                          115410 non-null  uint8\n",
      " 42  room_D                          115410 non-null  uint8\n",
      " 43  room_E                          115410 non-null  uint8\n",
      " 44  room_F                          115410 non-null  uint8\n",
      " 45  room_G                          115410 non-null  uint8\n",
      " 46  room_H                          115410 non-null  uint8\n",
      " 47  room_I                          115410 non-null  uint8\n",
      " 48  room_K                          115410 non-null  uint8\n",
      " 49  room_L                          115410 non-null  uint8\n",
      " 50  deposit_No Deposit              115410 non-null  uint8\n",
      " 51  deposit_Non Refund              115410 non-null  uint8\n",
      " 52  deposit_Refundable              115410 non-null  uint8\n",
      " 53  cust_Contract                   115410 non-null  uint8\n",
      " 54  cust_Group                      115410 non-null  uint8\n",
      " 55  cust_Transient                  115410 non-null  uint8\n",
      " 56  cust_Transient-Party            115410 non-null  uint8\n",
      "dtypes: int64(10), uint8(47)\n",
      "memory usage: 14.0 MB\n"
     ]
    }
   ],
   "source": [
    "X = hotel_logreg.drop('is_canceled', axis=1)\n",
    "y = hotel_logreg['is_canceled']\n",
    "X.info()"
   ]
  },
  {
   "cell_type": "markdown",
   "metadata": {},
   "source": [
    "Train-test split"
   ]
  },
  {
   "cell_type": "code",
   "execution_count": 47,
   "metadata": {},
   "outputs": [],
   "source": [
    "X_train, X_test, y_train, y_test = train_test_split(X, y, stratify=y, random_state = 0, test_size = 0.2)"
   ]
  },
  {
   "cell_type": "markdown",
   "metadata": {},
   "source": [
    "Logistic regression is sensitive to scaling, so must scale."
   ]
  },
  {
   "cell_type": "code",
   "execution_count": 48,
   "metadata": {},
   "outputs": [],
   "source": [
    "    # Standard Scaler is usually preferred b/c helps you account for outliers & keeps dispersion\n",
    "scaler = StandardScaler()\n",
    "\n",
    "    # fit_transform for train data set, but just the numerical columns, not one-hot encoded columns\n",
    "X_train.iloc[ : , 0:10] = scaler.fit_transform(X_train.iloc[ : , 0:10])\n",
    "X_test.iloc[ : , 0:10] = scaler.transform(X_test.iloc[ : , 0:10])"
   ]
  },
  {
   "cell_type": "code",
   "execution_count": 49,
   "metadata": {},
   "outputs": [],
   "source": [
    "    # these are the values of 'C' we want to gridsearch through\n",
    "logreg_grid_params = {\n",
    "    'C': [0.001, 0.01, 0.1, 1, 10, 100, 1000]\n",
    "}"
   ]
  },
  {
   "cell_type": "code",
   "execution_count": 50,
   "metadata": {},
   "outputs": [],
   "source": [
    "    # want the best parameter to be chosen based on recall score\n",
    "grid_logreg = GridSearchCV(\n",
    "    LogisticRegression(random_state=321),\n",
    "    logreg_grid_params, \n",
    "   # scoring='recall',\n",
    "    return_train_score=True,\n",
    "   # verbose = 1,\n",
    "    cv = 5,\n",
    "    n_jobs = -1\n",
    ")"
   ]
  },
  {
   "cell_type": "code",
   "execution_count": 51,
   "metadata": {},
   "outputs": [
    {
     "data": {
      "text/plain": [
       "GridSearchCV(cv=5, error_score=nan,\n",
       "             estimator=LogisticRegression(C=1.0, class_weight=None, dual=False,\n",
       "                                          fit_intercept=True,\n",
       "                                          intercept_scaling=1, l1_ratio=None,\n",
       "                                          max_iter=100, multi_class='auto',\n",
       "                                          n_jobs=None, penalty='l2',\n",
       "                                          random_state=321, solver='lbfgs',\n",
       "                                          tol=0.0001, verbose=0,\n",
       "                                          warm_start=False),\n",
       "             iid='deprecated', n_jobs=-1,\n",
       "             param_grid={'C': [0.001, 0.01, 0.1, 1, 10, 100, 1000]},\n",
       "             pre_dispatch='2*n_jobs', refit=True, return_train_score=True,\n",
       "             scoring=None, verbose=0)"
      ]
     },
     "execution_count": 51,
     "metadata": {},
     "output_type": "execute_result"
    }
   ],
   "source": [
    "    # fit to train model\n",
    "grid_logreg.fit(X_train, y_train)"
   ]
  },
  {
   "cell_type": "code",
   "execution_count": 52,
   "metadata": {},
   "outputs": [
    {
     "data": {
      "text/plain": [
       "{'C': 100}"
      ]
     },
     "execution_count": 52,
     "metadata": {},
     "output_type": "execute_result"
    }
   ],
   "source": [
    "grid_logreg.best_params_"
   ]
  },
  {
   "cell_type": "markdown",
   "metadata": {},
   "source": [
    "##### Logistic Regression Model Evaluation"
   ]
  },
  {
   "cell_type": "code",
   "execution_count": 53,
   "metadata": {},
   "outputs": [
    {
     "data": {
      "text/plain": [
       "array([[13319,  1114],\n",
       "       [ 4011,  4638]], dtype=int64)"
      ]
     },
     "execution_count": 53,
     "metadata": {},
     "output_type": "execute_result"
    }
   ],
   "source": [
    "   # creating y_pred for use with model evaluation calculations\n",
    "y_pred_lr = grid_logreg.predict(X_test)\n",
    "confusion_matrix(y_test, y_pred_lr)"
   ]
  },
  {
   "cell_type": "code",
   "execution_count": 54,
   "metadata": {},
   "outputs": [
    {
     "name": "stdout",
     "output_type": "stream",
     "text": [
      "Train score: 0.7788\n",
      "Test score: 0.7780\n",
      "Precision score: 0.8063\n",
      "Recall score: 0.5362\n",
      "F1 score: 0.6441\n"
     ]
    }
   ],
   "source": [
    "print('Train score: {:.4f}'.format(grid_logreg.score(X_train, y_train)))\n",
    "print('Test score: {:.4f}'.format(grid_logreg.score(X_test, y_test)))\n",
    "\n",
    "print(\"Precision score: {:.4f}\".format(precision_score(y_test, y_pred_lr)))\n",
    "print(\"Recall score: {:.4f}\".format(recall_score(y_test, y_pred_lr)))\n",
    "print(\"F1 score: {:.4f}\".format(f1_score(y_test, y_pred_lr)))"
   ]
  },
  {
   "cell_type": "markdown",
   "metadata": {},
   "source": [
    "We achieve a very slightly higher recall score with logistic regression as compared to KNN."
   ]
  },
  {
   "cell_type": "markdown",
   "metadata": {},
   "source": [
    "### Model 3: Linear SVM"
   ]
  },
  {
   "cell_type": "code",
   "execution_count": 55,
   "metadata": {},
   "outputs": [],
   "source": [
    "from sklearn.svm import LinearSVC"
   ]
  },
  {
   "cell_type": "code",
   "execution_count": 56,
   "metadata": {},
   "outputs": [],
   "source": [
    "    # hotel_knn dataset is similar to what we need for running linear SVM, so we can continue using same X & y's\n",
    "X_train, X_test, y_train, y_test = train_test_split(X, y, stratify=y, random_state = 0, test_size = 0.2)"
   ]
  },
  {
   "cell_type": "code",
   "execution_count": 57,
   "metadata": {},
   "outputs": [],
   "source": [
    "    # these are the values of 'C' we want to gridsearch through\n",
    "linSVM_grid_params = {\n",
    "    'C': [0.0001, 0.001, 0.01, 0.1, 1, 10, 100, 1000]\n",
    "}"
   ]
  },
  {
   "cell_type": "code",
   "execution_count": 58,
   "metadata": {},
   "outputs": [],
   "source": [
    "    # want the best parameter to be chosen based on recall score\n",
    "grid_linSVM = GridSearchCV(\n",
    "    LinearSVC(penalty='l2', random_state=789,\n",
    "        dual=False), # setting dual=False bc that's what's preferred when n_samples > n_features\n",
    "    linSVM_grid_params, \n",
    "  #  scoring='recall',\n",
    "    return_train_score=True,\n",
    "   # verbose = 1,\n",
    "    cv = 5,\n",
    "    n_jobs = -1\n",
    ")"
   ]
  },
  {
   "cell_type": "code",
   "execution_count": 59,
   "metadata": {},
   "outputs": [
    {
     "data": {
      "text/plain": [
       "GridSearchCV(cv=5, error_score=nan,\n",
       "             estimator=LinearSVC(C=1.0, class_weight=None, dual=False,\n",
       "                                 fit_intercept=True, intercept_scaling=1,\n",
       "                                 loss='squared_hinge', max_iter=1000,\n",
       "                                 multi_class='ovr', penalty='l2',\n",
       "                                 random_state=789, tol=0.0001, verbose=0),\n",
       "             iid='deprecated', n_jobs=-1,\n",
       "             param_grid={'C': [0.0001, 0.001, 0.01, 0.1, 1, 10, 100, 1000]},\n",
       "             pre_dispatch='2*n_jobs', refit=True, return_train_score=True,\n",
       "             scoring=None, verbose=0)"
      ]
     },
     "execution_count": 59,
     "metadata": {},
     "output_type": "execute_result"
    }
   ],
   "source": [
    "    # fit to train model\n",
    "grid_linSVM.fit(X_train, y_train)"
   ]
  },
  {
   "cell_type": "code",
   "execution_count": 60,
   "metadata": {},
   "outputs": [
    {
     "data": {
      "text/plain": [
       "{'C': 100}"
      ]
     },
     "execution_count": 60,
     "metadata": {},
     "output_type": "execute_result"
    }
   ],
   "source": [
    "grid_linSVM.best_params_"
   ]
  },
  {
   "cell_type": "markdown",
   "metadata": {},
   "source": [
    "##### Linear SVM Model Evaluation"
   ]
  },
  {
   "cell_type": "code",
   "execution_count": 61,
   "metadata": {},
   "outputs": [
    {
     "data": {
      "text/plain": [
       "array([[13453,   980],\n",
       "       [ 4174,  4475]], dtype=int64)"
      ]
     },
     "execution_count": 61,
     "metadata": {},
     "output_type": "execute_result"
    }
   ],
   "source": [
    "   # creating y_pred for use with model evaluation calculations\n",
    "y_pred_linsvm = grid_linSVM.predict(X_test)\n",
    "confusion_matrix(y_test, y_pred_linsvm)"
   ]
  },
  {
   "cell_type": "code",
   "execution_count": 62,
   "metadata": {},
   "outputs": [
    {
     "name": "stdout",
     "output_type": "stream",
     "text": [
      "Train score: 0.7767\n",
      "Test score: 0.7767\n",
      "Precision score: 0.8203\n",
      "Recall score: 0.5174\n",
      "F1 score: 0.6346\n"
     ]
    }
   ],
   "source": [
    "print('Train score: {:.4f}'.format(grid_linSVM.score(X_train, y_train)))\n",
    "print('Test score: {:.4f}'.format(grid_linSVM.score(X_test, y_test)))\n",
    "\n",
    "print(\"Precision score: {:.4f}\".format(precision_score(y_test, y_pred_linsvm)))\n",
    "print(\"Recall score: {:.4f}\".format(recall_score(y_test, y_pred_linsvm)))\n",
    "print(\"F1 score: {:.4f}\".format(f1_score(y_test, y_pred_linsvm)))"
   ]
  },
  {
   "cell_type": "markdown",
   "metadata": {},
   "source": [
    "Linear SVM performed worse than both KNN and Logistic Regression"
   ]
  },
  {
   "cell_type": "markdown",
   "metadata": {},
   "source": [
    "### Model 4: Kernelized SVM (rbf, poly, linear)"
   ]
  },
  {
   "cell_type": "markdown",
   "metadata": {},
   "source": [
    "#### 4a: SVM (kernel = 'rbf')"
   ]
  },
  {
   "cell_type": "code",
   "execution_count": 63,
   "metadata": {},
   "outputs": [],
   "source": [
    "from sklearn.svm import SVC"
   ]
  },
  {
   "cell_type": "markdown",
   "metadata": {},
   "source": [
    "SVM requires high computing power. Due to limited resources, we are forced to cut the sample size. Again, we make sure that the proportion of cancelled reservations in this sample is about the same as in the original dataset."
   ]
  },
  {
   "cell_type": "code",
   "execution_count": 64,
   "metadata": {},
   "outputs": [],
   "source": [
    "hotel_svm = hotel_knn.copy()\n",
    "#hotel_svm.info()"
   ]
  },
  {
   "cell_type": "code",
   "execution_count": 65,
   "metadata": {},
   "outputs": [
    {
     "data": {
      "text/plain": [
       "0    595\n",
       "1    405\n",
       "Name: is_canceled, dtype: int64"
      ]
     },
     "execution_count": 65,
     "metadata": {},
     "output_type": "execute_result"
    }
   ],
   "source": [
    "hotel_svm_sample = hotel_svm.sample(n=1000, random_state=789).reset_index(drop=True)\n",
    "hotel_svm_sample['is_canceled'].value_counts()"
   ]
  },
  {
   "cell_type": "code",
   "execution_count": 66,
   "metadata": {},
   "outputs": [],
   "source": [
    "X = hotel_svm_sample.drop('is_canceled', axis=1)\n",
    "y = hotel_svm_sample['is_canceled']\n",
    "#X.info()"
   ]
  },
  {
   "cell_type": "code",
   "execution_count": 67,
   "metadata": {},
   "outputs": [],
   "source": [
    "    # hotel_knn dataset is similar to what we need for running linear SVM, so we can continue using same X & y's\n",
    "X_train, X_test, y_train, y_test = train_test_split(X, y, stratify=y, random_state = 0, test_size = 0.2)"
   ]
  },
  {
   "cell_type": "code",
   "execution_count": 68,
   "metadata": {},
   "outputs": [],
   "source": [
    "    # Standard Scaler is usually preferred b/c helps you account for outliers & keeps dispersion\n",
    "scaler = StandardScaler()\n",
    "\n",
    "    # fit_transform for train data set, but just the numerical columns, not one-hot encoded columns\n",
    "X_train.iloc[ : , 0:10] = scaler.fit_transform(X_train.iloc[ : , 0:10])\n",
    "X_test.iloc[ : , 0:10] = scaler.transform(X_test.iloc[ : , 0:10])"
   ]
  },
  {
   "cell_type": "code",
   "execution_count": 69,
   "metadata": {},
   "outputs": [],
   "source": [
    "    # these are the values of 'C' we want to gridsearch through\n",
    "SVM1_grid_params = {\n",
    "    'gamma' : [0.001, 0.001, 0.01, 0.1, 1, 10, 100, 1000],\n",
    "    'C': [0.0001, 0.001, 0.01, 0.1, 1, 10, 100, 1000]\n",
    "}"
   ]
  },
  {
   "cell_type": "code",
   "execution_count": 70,
   "metadata": {},
   "outputs": [],
   "source": [
    "    # want the best parameter to be chosen based on recall score\n",
    "grid_SVM1 = GridSearchCV(\n",
    "    SVC(kernel='rbf', random_state=123),\n",
    "    SVM1_grid_params, \n",
    "   # scoring='recall',\n",
    "    return_train_score=True,\n",
    "   # verbose = 1,\n",
    "    cv = 5,\n",
    "    n_jobs = -1\n",
    ")"
   ]
  },
  {
   "cell_type": "code",
   "execution_count": 71,
   "metadata": {},
   "outputs": [
    {
     "data": {
      "text/plain": [
       "GridSearchCV(cv=5, error_score=nan,\n",
       "             estimator=SVC(C=1.0, break_ties=False, cache_size=200,\n",
       "                           class_weight=None, coef0=0.0,\n",
       "                           decision_function_shape='ovr', degree=3,\n",
       "                           gamma='scale', kernel='rbf', max_iter=-1,\n",
       "                           probability=False, random_state=123, shrinking=True,\n",
       "                           tol=0.001, verbose=False),\n",
       "             iid='deprecated', n_jobs=-1,\n",
       "             param_grid={'C': [0.0001, 0.001, 0.01, 0.1, 1, 10, 100, 1000],\n",
       "                         'gamma': [0.001, 0.001, 0.01, 0.1, 1, 10, 100, 1000]},\n",
       "             pre_dispatch='2*n_jobs', refit=True, return_train_score=True,\n",
       "             scoring=None, verbose=0)"
      ]
     },
     "execution_count": 71,
     "metadata": {},
     "output_type": "execute_result"
    }
   ],
   "source": [
    "    # fit to train model\n",
    "grid_SVM1.fit(X_train, y_train)"
   ]
  },
  {
   "cell_type": "code",
   "execution_count": 72,
   "metadata": {},
   "outputs": [
    {
     "data": {
      "text/plain": [
       "{'C': 1, 'gamma': 0.1}"
      ]
     },
     "execution_count": 72,
     "metadata": {},
     "output_type": "execute_result"
    }
   ],
   "source": [
    "grid_SVM1.best_params_"
   ]
  },
  {
   "cell_type": "markdown",
   "metadata": {},
   "source": [
    "##### SVM (kernel = 'rbf') Model Evaluation"
   ]
  },
  {
   "cell_type": "code",
   "execution_count": 73,
   "metadata": {},
   "outputs": [
    {
     "data": {
      "text/plain": [
       "array([[111,   8],\n",
       "       [ 43,  38]], dtype=int64)"
      ]
     },
     "execution_count": 73,
     "metadata": {},
     "output_type": "execute_result"
    }
   ],
   "source": [
    "   # creating y_pred for use with model evaluation calculations\n",
    "y_pred_svm1 = grid_SVM1.predict(X_test)\n",
    "confusion_matrix(y_test, y_pred_svm1)"
   ]
  },
  {
   "cell_type": "code",
   "execution_count": 74,
   "metadata": {},
   "outputs": [
    {
     "name": "stdout",
     "output_type": "stream",
     "text": [
      "Train score: 0.8425\n",
      "Test score: 0.7450\n",
      "Precision score: 0.8261\n",
      "Recall score: 0.4691\n",
      "F1 score: 0.5984\n"
     ]
    }
   ],
   "source": [
    "print('Train score: {:.4f}'.format(grid_SVM1.score(X_train, y_train)))\n",
    "print('Test score: {:.4f}'.format(grid_SVM1.score(X_test, y_test)))\n",
    "\n",
    "print(\"Precision score: {:.4f}\".format(precision_score(y_test, y_pred_svm1)))\n",
    "print(\"Recall score: {:.4f}\".format(recall_score(y_test, y_pred_svm1)))\n",
    "print(\"F1 score: {:.4f}\".format(f1_score(y_test, y_pred_svm1)))"
   ]
  },
  {
   "cell_type": "markdown",
   "metadata": {},
   "source": [
    "Still a sub-par model, based on the recall score."
   ]
  },
  {
   "cell_type": "markdown",
   "metadata": {},
   "source": [
    "#### 4b: SVM (kernel = 'poly')"
   ]
  },
  {
   "cell_type": "markdown",
   "metadata": {},
   "source": [
    "We can still use the same hotel_svm_sample from above."
   ]
  },
  {
   "cell_type": "code",
   "execution_count": 75,
   "metadata": {},
   "outputs": [],
   "source": [
    "    # these are the values of 'C' we want to gridsearch through\n",
    "SVM2_grid_params = {\n",
    "    'degree' : [2,3,4],\n",
    "    'gamma' : [0.001, 0.001, 0.01, 0.1, 1, 10, 100, 1000],\n",
    "    'C': [0.0001, 0.001, 0.01, 0.1, 1, 10, 100, 1000]\n",
    "}"
   ]
  },
  {
   "cell_type": "code",
   "execution_count": 76,
   "metadata": {},
   "outputs": [],
   "source": [
    "    # want the best parameter to be chosen based on recall score\n",
    "grid_SVM2 = GridSearchCV(\n",
    "    SVC(kernel='poly', random_state=123),\n",
    "    SVM2_grid_params, \n",
    "   # scoring='recall',\n",
    "    return_train_score=True,\n",
    "   # verbose = 1,\n",
    "    cv = 5,\n",
    "    n_jobs = -1\n",
    ")"
   ]
  },
  {
   "cell_type": "code",
   "execution_count": 77,
   "metadata": {},
   "outputs": [
    {
     "data": {
      "text/plain": [
       "GridSearchCV(cv=5, error_score=nan,\n",
       "             estimator=SVC(C=1.0, break_ties=False, cache_size=200,\n",
       "                           class_weight=None, coef0=0.0,\n",
       "                           decision_function_shape='ovr', degree=3,\n",
       "                           gamma='scale', kernel='poly', max_iter=-1,\n",
       "                           probability=False, random_state=123, shrinking=True,\n",
       "                           tol=0.001, verbose=False),\n",
       "             iid='deprecated', n_jobs=-1,\n",
       "             param_grid={'C': [0.0001, 0.001, 0.01, 0.1, 1, 10, 100, 1000],\n",
       "                         'degree': [2, 3, 4],\n",
       "                         'gamma': [0.001, 0.001, 0.01, 0.1, 1, 10, 100, 1000]},\n",
       "             pre_dispatch='2*n_jobs', refit=True, return_train_score=True,\n",
       "             scoring=None, verbose=0)"
      ]
     },
     "execution_count": 77,
     "metadata": {},
     "output_type": "execute_result"
    }
   ],
   "source": [
    "    # fit to train model\n",
    "grid_SVM2.fit(X_train, y_train)"
   ]
  },
  {
   "cell_type": "code",
   "execution_count": 78,
   "metadata": {},
   "outputs": [
    {
     "data": {
      "text/plain": [
       "{'C': 0.001, 'degree': 3, 'gamma': 1}"
      ]
     },
     "execution_count": 78,
     "metadata": {},
     "output_type": "execute_result"
    }
   ],
   "source": [
    "grid_SVM2.best_params_"
   ]
  },
  {
   "cell_type": "markdown",
   "metadata": {},
   "source": [
    "##### SVM (kernel = 'poly') Model Evaluation"
   ]
  },
  {
   "cell_type": "code",
   "execution_count": 79,
   "metadata": {},
   "outputs": [
    {
     "data": {
      "text/plain": [
       "array([[108,  11],\n",
       "       [ 36,  45]], dtype=int64)"
      ]
     },
     "execution_count": 79,
     "metadata": {},
     "output_type": "execute_result"
    }
   ],
   "source": [
    "   # creating y_pred for use with model evaluation calculations\n",
    "y_pred_svm2 = grid_SVM2.predict(X_test)\n",
    "confusion_matrix(y_test, y_pred_svm2)"
   ]
  },
  {
   "cell_type": "code",
   "execution_count": 80,
   "metadata": {},
   "outputs": [
    {
     "name": "stdout",
     "output_type": "stream",
     "text": [
      "Train score: 0.8888\n",
      "Test score: 0.7650\n",
      "Precision score: 0.8036\n",
      "Recall score: 0.5556\n",
      "F1 score: 0.6569\n"
     ]
    }
   ],
   "source": [
    "print('Train score: {:.4f}'.format(grid_SVM2.score(X_train, y_train)))\n",
    "print('Test score: {:.4f}'.format(grid_SVM2.score(X_test, y_test)))\n",
    "\n",
    "print(\"Precision score: {:.4f}\".format(precision_score(y_test, y_pred_svm2)))\n",
    "print(\"Recall score: {:.4f}\".format(recall_score(y_test, y_pred_svm2)))\n",
    "print(\"F1 score: {:.4f}\".format(f1_score(y_test, y_pred_svm2)))"
   ]
  },
  {
   "cell_type": "markdown",
   "metadata": {},
   "source": [
    "#### 4c: SVM (kernel = 'linear')"
   ]
  },
  {
   "cell_type": "markdown",
   "metadata": {},
   "source": [
    "We can still use the same hotel_svm_sample from above."
   ]
  },
  {
   "cell_type": "code",
   "execution_count": 81,
   "metadata": {},
   "outputs": [],
   "source": [
    "    # these are the values of 'C' we want to gridsearch through\n",
    "SVM3_grid_params = {\n",
    "    'gamma' : [0.001, 0.001, 0.01, 0.1, 1, 10, 100, 1000],\n",
    "    'C': [0.0001, 0.001, 0.01, 0.1, 1, 10, 100, 1000]\n",
    "}"
   ]
  },
  {
   "cell_type": "code",
   "execution_count": 82,
   "metadata": {},
   "outputs": [],
   "source": [
    "    # want the best parameter to be chosen based on recall score\n",
    "grid_SVM3 = GridSearchCV(\n",
    "    SVC(kernel='linear', random_state=321),\n",
    "    SVM3_grid_params, \n",
    "    scoring='recall',\n",
    "    return_train_score=True,\n",
    "   # verbose = 1,\n",
    "    cv = 5,\n",
    "    n_jobs = -1\n",
    ")"
   ]
  },
  {
   "cell_type": "code",
   "execution_count": 83,
   "metadata": {},
   "outputs": [
    {
     "data": {
      "text/plain": [
       "GridSearchCV(cv=5, error_score=nan,\n",
       "             estimator=SVC(C=1.0, break_ties=False, cache_size=200,\n",
       "                           class_weight=None, coef0=0.0,\n",
       "                           decision_function_shape='ovr', degree=3,\n",
       "                           gamma='scale', kernel='linear', max_iter=-1,\n",
       "                           probability=False, random_state=321, shrinking=True,\n",
       "                           tol=0.001, verbose=False),\n",
       "             iid='deprecated', n_jobs=-1,\n",
       "             param_grid={'C': [0.0001, 0.001, 0.01, 0.1, 1, 10, 100, 1000],\n",
       "                         'gamma': [0.001, 0.001, 0.01, 0.1, 1, 10, 100, 1000]},\n",
       "             pre_dispatch='2*n_jobs', refit=True, return_train_score=True,\n",
       "             scoring='recall', verbose=0)"
      ]
     },
     "execution_count": 83,
     "metadata": {},
     "output_type": "execute_result"
    }
   ],
   "source": [
    "    # fit to train model\n",
    "grid_SVM3.fit(X_train, y_train)"
   ]
  },
  {
   "cell_type": "code",
   "execution_count": 84,
   "metadata": {},
   "outputs": [
    {
     "data": {
      "text/plain": [
       "{'C': 1000, 'gamma': 0.001}"
      ]
     },
     "execution_count": 84,
     "metadata": {},
     "output_type": "execute_result"
    }
   ],
   "source": [
    "grid_SVM3.best_params_"
   ]
  },
  {
   "cell_type": "markdown",
   "metadata": {},
   "source": [
    "##### SVM (kernel = 'linear') Model Evaluation"
   ]
  },
  {
   "cell_type": "code",
   "execution_count": 85,
   "metadata": {},
   "outputs": [
    {
     "data": {
      "text/plain": [
       "array([[110,   9],\n",
       "       [ 39,  42]], dtype=int64)"
      ]
     },
     "execution_count": 85,
     "metadata": {},
     "output_type": "execute_result"
    }
   ],
   "source": [
    "   # creating y_pred for use with model evaluation calculations\n",
    "random_state=321321\n",
    "y_pred_svm3 = grid_SVM3.predict(X_test)\n",
    "confusion_matrix(y_test, y_pred_svm3)"
   ]
  },
  {
   "cell_type": "code",
   "execution_count": 86,
   "metadata": {},
   "outputs": [
    {
     "name": "stdout",
     "output_type": "stream",
     "text": [
      "Train score: 0.5679\n",
      "Test score: 0.5185\n",
      "Precision score: 0.8235\n",
      "Recall score: 0.5185\n",
      "F1 score: 0.6364\n"
     ]
    }
   ],
   "source": [
    "print('Train score: {:.4f}'.format(grid_SVM3.score(X_train, y_train)))\n",
    "print('Test score: {:.4f}'.format(grid_SVM3.score(X_test, y_test)))\n",
    "\n",
    "print(\"Precision score: {:.4f}\".format(precision_score(y_test, y_pred_svm3)))\n",
    "print(\"Recall score: {:.4f}\".format(recall_score(y_test, y_pred_svm3)))\n",
    "print(\"F1 score: {:.4f}\".format(f1_score(y_test, y_pred_svm3)))"
   ]
  },
  {
   "cell_type": "markdown",
   "metadata": {},
   "source": [
    "Very high precision, but still low recall."
   ]
  },
  {
   "cell_type": "markdown",
   "metadata": {},
   "source": [
    "### Model 5: Decision Trees"
   ]
  },
  {
   "cell_type": "code",
   "execution_count": 87,
   "metadata": {},
   "outputs": [],
   "source": [
    "from sklearn.tree import DecisionTreeClassifier"
   ]
  },
  {
   "cell_type": "markdown",
   "metadata": {},
   "source": [
    "Decision trees are also unable to handle categorical data. However, scaling doesn't make a difference in decision trees, so we will not scale the data."
   ]
  },
  {
   "cell_type": "code",
   "execution_count": 88,
   "metadata": {},
   "outputs": [
    {
     "data": {
      "text/html": [
       "<div>\n",
       "<style scoped>\n",
       "    .dataframe tbody tr th:only-of-type {\n",
       "        vertical-align: middle;\n",
       "    }\n",
       "\n",
       "    .dataframe tbody tr th {\n",
       "        vertical-align: top;\n",
       "    }\n",
       "\n",
       "    .dataframe thead th {\n",
       "        text-align: right;\n",
       "    }\n",
       "</style>\n",
       "<table border=\"1\" class=\"dataframe\">\n",
       "  <thead>\n",
       "    <tr style=\"text-align: right;\">\n",
       "      <th></th>\n",
       "      <th>is_canceled</th>\n",
       "      <th>lead_time</th>\n",
       "      <th>stays_in_weekend_nights</th>\n",
       "      <th>stays_in_week_nights</th>\n",
       "      <th>adults</th>\n",
       "      <th>under_18</th>\n",
       "      <th>previous_cancellations</th>\n",
       "      <th>previous_bookings_not_canceled</th>\n",
       "      <th>booking_changes</th>\n",
       "      <th>days_in_waiting_list</th>\n",
       "      <th>...</th>\n",
       "      <th>room_I</th>\n",
       "      <th>room_K</th>\n",
       "      <th>room_L</th>\n",
       "      <th>deposit_No Deposit</th>\n",
       "      <th>deposit_Non Refund</th>\n",
       "      <th>deposit_Refundable</th>\n",
       "      <th>cust_Contract</th>\n",
       "      <th>cust_Group</th>\n",
       "      <th>cust_Transient</th>\n",
       "      <th>cust_Transient-Party</th>\n",
       "    </tr>\n",
       "  </thead>\n",
       "  <tbody>\n",
       "    <tr>\n",
       "      <th>0</th>\n",
       "      <td>0</td>\n",
       "      <td>7</td>\n",
       "      <td>0</td>\n",
       "      <td>1</td>\n",
       "      <td>1</td>\n",
       "      <td>0</td>\n",
       "      <td>0</td>\n",
       "      <td>0</td>\n",
       "      <td>0</td>\n",
       "      <td>0</td>\n",
       "      <td>...</td>\n",
       "      <td>0</td>\n",
       "      <td>0</td>\n",
       "      <td>0</td>\n",
       "      <td>1</td>\n",
       "      <td>0</td>\n",
       "      <td>0</td>\n",
       "      <td>0</td>\n",
       "      <td>0</td>\n",
       "      <td>1</td>\n",
       "      <td>0</td>\n",
       "    </tr>\n",
       "    <tr>\n",
       "      <th>1</th>\n",
       "      <td>0</td>\n",
       "      <td>13</td>\n",
       "      <td>0</td>\n",
       "      <td>1</td>\n",
       "      <td>1</td>\n",
       "      <td>0</td>\n",
       "      <td>0</td>\n",
       "      <td>0</td>\n",
       "      <td>0</td>\n",
       "      <td>0</td>\n",
       "      <td>...</td>\n",
       "      <td>0</td>\n",
       "      <td>0</td>\n",
       "      <td>0</td>\n",
       "      <td>1</td>\n",
       "      <td>0</td>\n",
       "      <td>0</td>\n",
       "      <td>0</td>\n",
       "      <td>0</td>\n",
       "      <td>1</td>\n",
       "      <td>0</td>\n",
       "    </tr>\n",
       "    <tr>\n",
       "      <th>2</th>\n",
       "      <td>0</td>\n",
       "      <td>14</td>\n",
       "      <td>0</td>\n",
       "      <td>2</td>\n",
       "      <td>2</td>\n",
       "      <td>0</td>\n",
       "      <td>0</td>\n",
       "      <td>0</td>\n",
       "      <td>0</td>\n",
       "      <td>0</td>\n",
       "      <td>...</td>\n",
       "      <td>0</td>\n",
       "      <td>0</td>\n",
       "      <td>0</td>\n",
       "      <td>1</td>\n",
       "      <td>0</td>\n",
       "      <td>0</td>\n",
       "      <td>0</td>\n",
       "      <td>0</td>\n",
       "      <td>1</td>\n",
       "      <td>0</td>\n",
       "    </tr>\n",
       "    <tr>\n",
       "      <th>3</th>\n",
       "      <td>0</td>\n",
       "      <td>14</td>\n",
       "      <td>0</td>\n",
       "      <td>2</td>\n",
       "      <td>2</td>\n",
       "      <td>0</td>\n",
       "      <td>0</td>\n",
       "      <td>0</td>\n",
       "      <td>0</td>\n",
       "      <td>0</td>\n",
       "      <td>...</td>\n",
       "      <td>0</td>\n",
       "      <td>0</td>\n",
       "      <td>0</td>\n",
       "      <td>1</td>\n",
       "      <td>0</td>\n",
       "      <td>0</td>\n",
       "      <td>0</td>\n",
       "      <td>0</td>\n",
       "      <td>1</td>\n",
       "      <td>0</td>\n",
       "    </tr>\n",
       "    <tr>\n",
       "      <th>4</th>\n",
       "      <td>0</td>\n",
       "      <td>0</td>\n",
       "      <td>0</td>\n",
       "      <td>2</td>\n",
       "      <td>2</td>\n",
       "      <td>0</td>\n",
       "      <td>0</td>\n",
       "      <td>0</td>\n",
       "      <td>0</td>\n",
       "      <td>0</td>\n",
       "      <td>...</td>\n",
       "      <td>0</td>\n",
       "      <td>0</td>\n",
       "      <td>0</td>\n",
       "      <td>1</td>\n",
       "      <td>0</td>\n",
       "      <td>0</td>\n",
       "      <td>0</td>\n",
       "      <td>0</td>\n",
       "      <td>1</td>\n",
       "      <td>0</td>\n",
       "    </tr>\n",
       "    <tr>\n",
       "      <th>...</th>\n",
       "      <td>...</td>\n",
       "      <td>...</td>\n",
       "      <td>...</td>\n",
       "      <td>...</td>\n",
       "      <td>...</td>\n",
       "      <td>...</td>\n",
       "      <td>...</td>\n",
       "      <td>...</td>\n",
       "      <td>...</td>\n",
       "      <td>...</td>\n",
       "      <td>...</td>\n",
       "      <td>...</td>\n",
       "      <td>...</td>\n",
       "      <td>...</td>\n",
       "      <td>...</td>\n",
       "      <td>...</td>\n",
       "      <td>...</td>\n",
       "      <td>...</td>\n",
       "      <td>...</td>\n",
       "      <td>...</td>\n",
       "      <td>...</td>\n",
       "    </tr>\n",
       "    <tr>\n",
       "      <th>115405</th>\n",
       "      <td>0</td>\n",
       "      <td>21</td>\n",
       "      <td>2</td>\n",
       "      <td>5</td>\n",
       "      <td>2</td>\n",
       "      <td>0</td>\n",
       "      <td>0</td>\n",
       "      <td>0</td>\n",
       "      <td>0</td>\n",
       "      <td>0</td>\n",
       "      <td>...</td>\n",
       "      <td>0</td>\n",
       "      <td>0</td>\n",
       "      <td>0</td>\n",
       "      <td>1</td>\n",
       "      <td>0</td>\n",
       "      <td>0</td>\n",
       "      <td>0</td>\n",
       "      <td>0</td>\n",
       "      <td>1</td>\n",
       "      <td>0</td>\n",
       "    </tr>\n",
       "    <tr>\n",
       "      <th>115406</th>\n",
       "      <td>0</td>\n",
       "      <td>23</td>\n",
       "      <td>2</td>\n",
       "      <td>5</td>\n",
       "      <td>2</td>\n",
       "      <td>0</td>\n",
       "      <td>0</td>\n",
       "      <td>0</td>\n",
       "      <td>0</td>\n",
       "      <td>0</td>\n",
       "      <td>...</td>\n",
       "      <td>0</td>\n",
       "      <td>0</td>\n",
       "      <td>0</td>\n",
       "      <td>1</td>\n",
       "      <td>0</td>\n",
       "      <td>0</td>\n",
       "      <td>0</td>\n",
       "      <td>0</td>\n",
       "      <td>1</td>\n",
       "      <td>0</td>\n",
       "    </tr>\n",
       "    <tr>\n",
       "      <th>115407</th>\n",
       "      <td>0</td>\n",
       "      <td>102</td>\n",
       "      <td>2</td>\n",
       "      <td>5</td>\n",
       "      <td>3</td>\n",
       "      <td>0</td>\n",
       "      <td>0</td>\n",
       "      <td>0</td>\n",
       "      <td>0</td>\n",
       "      <td>0</td>\n",
       "      <td>...</td>\n",
       "      <td>0</td>\n",
       "      <td>0</td>\n",
       "      <td>0</td>\n",
       "      <td>1</td>\n",
       "      <td>0</td>\n",
       "      <td>0</td>\n",
       "      <td>0</td>\n",
       "      <td>0</td>\n",
       "      <td>1</td>\n",
       "      <td>0</td>\n",
       "    </tr>\n",
       "    <tr>\n",
       "      <th>115408</th>\n",
       "      <td>0</td>\n",
       "      <td>34</td>\n",
       "      <td>2</td>\n",
       "      <td>5</td>\n",
       "      <td>2</td>\n",
       "      <td>0</td>\n",
       "      <td>0</td>\n",
       "      <td>0</td>\n",
       "      <td>0</td>\n",
       "      <td>0</td>\n",
       "      <td>...</td>\n",
       "      <td>0</td>\n",
       "      <td>0</td>\n",
       "      <td>0</td>\n",
       "      <td>1</td>\n",
       "      <td>0</td>\n",
       "      <td>0</td>\n",
       "      <td>0</td>\n",
       "      <td>0</td>\n",
       "      <td>1</td>\n",
       "      <td>0</td>\n",
       "    </tr>\n",
       "    <tr>\n",
       "      <th>115409</th>\n",
       "      <td>0</td>\n",
       "      <td>205</td>\n",
       "      <td>2</td>\n",
       "      <td>7</td>\n",
       "      <td>2</td>\n",
       "      <td>0</td>\n",
       "      <td>0</td>\n",
       "      <td>0</td>\n",
       "      <td>0</td>\n",
       "      <td>0</td>\n",
       "      <td>...</td>\n",
       "      <td>0</td>\n",
       "      <td>0</td>\n",
       "      <td>0</td>\n",
       "      <td>1</td>\n",
       "      <td>0</td>\n",
       "      <td>0</td>\n",
       "      <td>0</td>\n",
       "      <td>0</td>\n",
       "      <td>1</td>\n",
       "      <td>0</td>\n",
       "    </tr>\n",
       "  </tbody>\n",
       "</table>\n",
       "<p>115410 rows × 58 columns</p>\n",
       "</div>"
      ],
      "text/plain": [
       "        is_canceled  lead_time  stays_in_weekend_nights  stays_in_week_nights  \\\n",
       "0                 0          7                        0                     1   \n",
       "1                 0         13                        0                     1   \n",
       "2                 0         14                        0                     2   \n",
       "3                 0         14                        0                     2   \n",
       "4                 0          0                        0                     2   \n",
       "...             ...        ...                      ...                   ...   \n",
       "115405            0         21                        2                     5   \n",
       "115406            0         23                        2                     5   \n",
       "115407            0        102                        2                     5   \n",
       "115408            0         34                        2                     5   \n",
       "115409            0        205                        2                     7   \n",
       "\n",
       "        adults  under_18  previous_cancellations  \\\n",
       "0            1         0                       0   \n",
       "1            1         0                       0   \n",
       "2            2         0                       0   \n",
       "3            2         0                       0   \n",
       "4            2         0                       0   \n",
       "...        ...       ...                     ...   \n",
       "115405       2         0                       0   \n",
       "115406       2         0                       0   \n",
       "115407       3         0                       0   \n",
       "115408       2         0                       0   \n",
       "115409       2         0                       0   \n",
       "\n",
       "        previous_bookings_not_canceled  booking_changes  days_in_waiting_list  \\\n",
       "0                                    0                0                     0   \n",
       "1                                    0                0                     0   \n",
       "2                                    0                0                     0   \n",
       "3                                    0                0                     0   \n",
       "4                                    0                0                     0   \n",
       "...                                ...              ...                   ...   \n",
       "115405                               0                0                     0   \n",
       "115406                               0                0                     0   \n",
       "115407                               0                0                     0   \n",
       "115408                               0                0                     0   \n",
       "115409                               0                0                     0   \n",
       "\n",
       "        ...  room_I  room_K  room_L  deposit_No Deposit  deposit_Non Refund  \\\n",
       "0       ...       0       0       0                   1                   0   \n",
       "1       ...       0       0       0                   1                   0   \n",
       "2       ...       0       0       0                   1                   0   \n",
       "3       ...       0       0       0                   1                   0   \n",
       "4       ...       0       0       0                   1                   0   \n",
       "...     ...     ...     ...     ...                 ...                 ...   \n",
       "115405  ...       0       0       0                   1                   0   \n",
       "115406  ...       0       0       0                   1                   0   \n",
       "115407  ...       0       0       0                   1                   0   \n",
       "115408  ...       0       0       0                   1                   0   \n",
       "115409  ...       0       0       0                   1                   0   \n",
       "\n",
       "        deposit_Refundable  cust_Contract  cust_Group  cust_Transient  \\\n",
       "0                        0              0           0               1   \n",
       "1                        0              0           0               1   \n",
       "2                        0              0           0               1   \n",
       "3                        0              0           0               1   \n",
       "4                        0              0           0               1   \n",
       "...                    ...            ...         ...             ...   \n",
       "115405                   0              0           0               1   \n",
       "115406                   0              0           0               1   \n",
       "115407                   0              0           0               1   \n",
       "115408                   0              0           0               1   \n",
       "115409                   0              0           0               1   \n",
       "\n",
       "        cust_Transient-Party  \n",
       "0                          0  \n",
       "1                          0  \n",
       "2                          0  \n",
       "3                          0  \n",
       "4                          0  \n",
       "...                      ...  \n",
       "115405                     0  \n",
       "115406                     0  \n",
       "115407                     0  \n",
       "115408                     0  \n",
       "115409                     0  \n",
       "\n",
       "[115410 rows x 58 columns]"
      ]
     },
     "execution_count": 88,
     "metadata": {},
     "output_type": "execute_result"
    }
   ],
   "source": [
    "hotel_dtree = hotel_knn.copy()\n",
    "hotel_dtree"
   ]
  },
  {
   "cell_type": "code",
   "execution_count": 89,
   "metadata": {},
   "outputs": [
    {
     "data": {
      "text/plain": [
       "0    72163\n",
       "1    43247\n",
       "Name: is_canceled, dtype: int64"
      ]
     },
     "execution_count": 89,
     "metadata": {},
     "output_type": "execute_result"
    }
   ],
   "source": [
    "X = hotel_dtree.drop('is_canceled', axis=1)\n",
    "y = hotel_dtree['is_canceled']\n",
    "y.value_counts()"
   ]
  },
  {
   "cell_type": "markdown",
   "metadata": {},
   "source": [
    "Decision trees are not sensitive to scaling, so no need to scale."
   ]
  },
  {
   "cell_type": "code",
   "execution_count": 90,
   "metadata": {},
   "outputs": [],
   "source": [
    "X_train, X_test, y_train, y_test = train_test_split(X, y, stratify=y, random_state = 0, test_size = 0.2)"
   ]
  },
  {
   "cell_type": "code",
   "execution_count": 91,
   "metadata": {},
   "outputs": [],
   "source": [
    "    # these are the values of 'C' we want to gridsearch through\n",
    "dtree_grid_params = {\n",
    "    'max_depth': range(2,8),\n",
    "    'min_samples_split': range(2,12,1),\n",
    "    'max_leaf_nodes': range(2,10)\n",
    "}"
   ]
  },
  {
   "cell_type": "code",
   "execution_count": 92,
   "metadata": {},
   "outputs": [],
   "source": [
    "    # want the best parameter to be chosen based on recall score\n",
    "grid_tree = GridSearchCV(\n",
    "    DecisionTreeClassifier(random_state=123),\n",
    "    dtree_grid_params, \n",
    "   # scoring='recall',\n",
    "    return_train_score=True,\n",
    "   # verbose = 1,\n",
    "    cv = 5,\n",
    "    n_jobs = -1\n",
    ")"
   ]
  },
  {
   "cell_type": "code",
   "execution_count": 93,
   "metadata": {},
   "outputs": [
    {
     "data": {
      "text/plain": [
       "{'max_depth': 5, 'max_leaf_nodes': 9, 'min_samples_split': 2}"
      ]
     },
     "execution_count": 93,
     "metadata": {},
     "output_type": "execute_result"
    }
   ],
   "source": [
    "grid_tree.fit(X_train, y_train)\n",
    "grid_tree.best_params_"
   ]
  },
  {
   "cell_type": "markdown",
   "metadata": {},
   "source": [
    "##### Decision Tree Model Evaluation"
   ]
  },
  {
   "cell_type": "code",
   "execution_count": 94,
   "metadata": {},
   "outputs": [
    {
     "data": {
      "text/plain": [
       "DecisionTreeClassifier(ccp_alpha=0.0, class_weight=None, criterion='gini',\n",
       "                       max_depth=5, max_features=None, max_leaf_nodes=9,\n",
       "                       min_impurity_decrease=0.0, min_impurity_split=None,\n",
       "                       min_samples_leaf=1, min_samples_split=2,\n",
       "                       min_weight_fraction_leaf=0.0, presort='deprecated',\n",
       "                       random_state=123, splitter='best')"
      ]
     },
     "execution_count": 94,
     "metadata": {},
     "output_type": "execute_result"
    }
   ],
   "source": [
    "dtree = DecisionTreeClassifier(max_depth=5, max_leaf_nodes=9, min_samples_split=2, random_state=123)\n",
    "dtree.fit(X_train, y_train)"
   ]
  },
  {
   "cell_type": "code",
   "execution_count": 95,
   "metadata": {},
   "outputs": [
    {
     "data": {
      "text/plain": [
       "array([[12787,  1646],\n",
       "       [ 3661,  4988]], dtype=int64)"
      ]
     },
     "execution_count": 95,
     "metadata": {},
     "output_type": "execute_result"
    }
   ],
   "source": [
    "   # creating y_pred for use with model evaluation calculations\n",
    "y_pred_dtree = dtree.predict(X_test)\n",
    "confusion_matrix(y_test, y_pred_dtree)"
   ]
  },
  {
   "cell_type": "code",
   "execution_count": 96,
   "metadata": {},
   "outputs": [
    {
     "name": "stdout",
     "output_type": "stream",
     "text": [
      "Train score: 0.7708\n",
      "Test score: 0.7701\n",
      "Precision score: 0.7519\n",
      "Recall score: 0.5767\n",
      "F1 score: 0.6528\n"
     ]
    }
   ],
   "source": [
    "print('Train score: {:.4f}'.format(dtree.score(X_train, y_train)))\n",
    "print('Test score: {:.4f}'.format(dtree.score(X_test, y_test)))\n",
    "\n",
    "print(\"Precision score: {:.4f}\".format(precision_score(y_test, y_pred_dtree)))\n",
    "print(\"Recall score: {:.4f}\".format(recall_score(y_test, y_pred_dtree)))\n",
    "print(\"F1 score: {:.4f}\".format(f1_score(y_test, y_pred_dtree)))"
   ]
  },
  {
   "cell_type": "markdown",
   "metadata": {},
   "source": [
    "Surprisingly, Decision Tree's performance is not significantly different than that of any of the other models"
   ]
  },
  {
   "cell_type": "markdown",
   "metadata": {},
   "source": [
    "Visualizing feature importance"
   ]
  },
  {
   "cell_type": "code",
   "execution_count": 97,
   "metadata": {},
   "outputs": [
    {
     "data": {
      "image/png": "[encoded data removed]",
      "text/plain": [
       "<Figure size 2160x1440 with 1 Axes>"
      ]
     },
     "metadata": {
      "needs_background": "light"
     },
     "output_type": "display_data"
    }
   ],
   "source": [
    "%matplotlib inline\n",
    "def plot_feature_importances_cancer(model):\n",
    "    fig, ax = plt.subplots(figsize=(30,20))\n",
    "    n_features = X_train.shape[1]\n",
    "    plt.barh(range(n_features), model.feature_importances_, align='center')\n",
    "    plt.title('Decision Tree Feature Importance', size=24)\n",
    "    plt.yticks(np.arange(n_features), X_train.columns, size=16)\n",
    "    plt.xticks(size=18)\n",
    "    plt.xlabel(\"Feature importance\", size=24)\n",
    "    plt.ylabel(\"Feature\", size=24)\n",
    "    plt.ylim(-1, n_features)\n",
    "\n",
    "plot_feature_importances_cancer(dtree)"
   ]
  },
  {
   "cell_type": "markdown",
   "metadata": {},
   "source": [
    "Clearly, the most important feature in predicting whether a reservation gets cancelled is whether the deposit was non-refundable or not. This is counterintuitive, as you would expect the situation to be such that when deposits are non-refundable, there are fewer cancellations.\n",
    "\n",
    "The fact that country_PRT (which means that the country of the reservation is Portugal) is an important feature is not surprising. The hotel is in Portugal, so people who live closer to the hotel are not traveling as far, and so the trip likely was not a big deal for them. Hence, they would be more likely to cancel. In addition, of all the 'country' categories, Portugal has the most observations. So the fact that it's important could be due to the fact that we have a greater sample size that fits the country=Portugal criteria.\n",
    "\n",
    "Other important factors are intuitive: adr (average daily rate), previous_cancellations (whether this guest had cancelled reservations in the past), and lead_time (how far in advance the rservation was made)."
   ]
  },
  {
   "cell_type": "markdown",
   "metadata": {},
   "source": [
    "### Model Summaries & Best Model Selection"
   ]
  },
  {
   "cell_type": "markdown",
   "metadata": {},
   "source": [
    "|   | Model Name | Train Score | Test Score | Precision Score | Recall Score | F1 Score |\n",
    "| - | ---------- | ----------- | ---------- | --------------- | ------------ | -------- |\n",
    "| 1 |   KNN      |      0.7895 |      0.7700 |         0.7874 |       0.5319 |  0.6349  |\n",
    "| 2 | Logistic Regression    | 0.7788 | 0.7780 |     0.8063   |    0.5362    |  0.6441  |\n",
    "| 3 | Linear SVM  | 0.7767 | 0.7767 |   0.8203  | 0.5174 | 0.6346\n",
    "| 4a |  SVM, kernel='rbf'   | 0.8425 | 0.7450 |   0.8261  | 0.4691 | 0.5984\n",
    "| 4b |  SVM, kernel='poly'  | 0.8888 | 0.7650 |   0.8036  | 0.5556 | 0.6569\n",
    "| 4c |  SVM, kernel='linear' | 0.5679 | 0.5185 |  0.8235  | 0.5185 | 0.6364\n",
    "| 5 | Decision Tree  | 0.7708 | 0.7701 |  0.7519  | 0.5767 | 0.6528"
   ]
  },
  {
   "cell_type": "markdown",
   "metadata": {},
   "source": [
    "Based on recall score, the Decision Tree model gives the best performance. However, most of the other models (except 4a), are not too far behind."
   ]
  },
  {
   "cell_type": "markdown",
   "metadata": {},
   "source": [
    "### Business Applications"
   ]
  },
  {
   "cell_type": "markdown",
   "metadata": {},
   "source": [
    "As a further extension of this machine learning algorithm analysis, we wanted to think about how we can guide the hotel to apply our model to add value.\n",
    "\n",
    "One suggestion we had was to have the hotel use our model to predict cancellations. Hotel employees can then call expected guests 48 hours before check-in time to confirm the reservation. That way, if the guest decides to cancel, the space becomes free for another potential guest."
   ]
  }
 ],
 "metadata": {
  "kernelspec": {
   "display_name": "Python 3",
   "language": "python",
   "name": "python3"
  },
  "language_info": {
   "codemirror_mode": {
    "name": "ipython",
    "version": 3
   },
   "file_extension": ".py",
   "mimetype": "text/x-python",
   "name": "python",
   "nbconvert_exporter": "python",
   "pygments_lexer": "ipython3",
   "version": "3.7.4"
  }
 },
 "nbformat": 4,
 "nbformat_minor": 2
}
