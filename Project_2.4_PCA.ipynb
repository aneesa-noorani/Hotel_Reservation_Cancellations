{
 "cells": [
  {
   "cell_type": "markdown",
   "metadata": {},
   "source": [
    "# Project 2 - Part II: Classification Task"
   ]
  },
  {
   "cell_type": "markdown",
   "metadata": {},
   "source": [
    "### Notebook 4: PCA & Reapplying Project 1 Models"
   ]
  },
  {
   "cell_type": "code",
   "execution_count": 1,
   "metadata": {},
   "outputs": [],
   "source": [
    "import warnings\n",
    "warnings.filterwarnings('ignore')\n",
    "import numpy as np\n",
    "import pandas as pd\n",
    "import seaborn as sns\n",
    "import matplotlib.pyplot as plt\n",
    "import sklearn\n",
    "\n",
    "from sklearn.decomposition import PCA\n",
    "from sklearn.svm import SVC, LinearSVC\n",
    "from sklearn.neighbors import KNeighborsClassifier\n",
    "from sklearn.linear_model import LogisticRegression\n",
    "from sklearn.tree import DecisionTreeClassifier\n",
    "\n",
    "from sklearn.preprocessing import StandardScaler\n",
    "from sklearn.model_selection import train_test_split\n",
    "from sklearn.model_selection import GridSearchCV\n",
    "from sklearn.metrics import accuracy_score, recall_score, confusion_matrix"
   ]
  },
  {
   "cell_type": "markdown",
   "metadata": {},
   "source": [
    "### Load data"
   ]
  },
  {
   "cell_type": "code",
   "execution_count": 2,
   "metadata": {},
   "outputs": [
    {
     "data": {
      "text/plain": [
       "(115459, 20)"
      ]
     },
     "execution_count": 2,
     "metadata": {},
     "output_type": "execute_result"
    }
   ],
   "source": [
    "hotel_df = pd.read_csv(r'revised_hotel_df.csv')\n",
    "hotel_df.shape"
   ]
  },
  {
   "cell_type": "code",
   "execution_count": 3,
   "metadata": {
    "scrolled": true
   },
   "outputs": [
    {
     "data": {
      "text/plain": [
       "Index(['hotel', 'is_canceled', 'lead_time', 'arrival_date_month',\n",
       "       'stays_in_weekend_nights', 'stays_in_week_nights', 'adults', 'meal',\n",
       "       'country', 'distribution_channel', 'is_repeated_guest',\n",
       "       'previous_cancellations', 'previous_bookings_not_canceled',\n",
       "       'assigned_room_type', 'booking_changes', 'deposit_type',\n",
       "       'days_in_waiting_list', 'customer_type', 'adr', 'under_18'],\n",
       "      dtype='object')"
      ]
     },
     "execution_count": 3,
     "metadata": {},
     "output_type": "execute_result"
    }
   ],
   "source": [
    "hotel_df.columns"
   ]
  },
  {
   "cell_type": "markdown",
   "metadata": {},
   "source": [
    "### Evaluation Metric Decision"
   ]
  },
  {
   "cell_type": "markdown",
   "metadata": {},
   "source": [
    "From Project 1, we decided that the chosen evaluation metric is recall. The goal is the produce a model with a __high recall__ rate."
   ]
  },
  {
   "cell_type": "markdown",
   "metadata": {},
   "source": [
    "### Data Preparation"
   ]
  },
  {
   "cell_type": "code",
   "execution_count": 4,
   "metadata": {},
   "outputs": [],
   "source": [
    "    # one hot encode the categorical variables\n",
    "hotel_df = pd.get_dummies(hotel_df, columns = ['hotel'], prefix='hotel')\n",
    "hotel_df = pd.get_dummies(hotel_df, columns = ['arrival_date_month'], prefix='month')\n",
    "hotel_df = pd.get_dummies(hotel_df, columns = ['meal'], prefix='meal')\n",
    "hotel_df = pd.get_dummies(hotel_df, columns = ['country'], prefix='country')\n",
    "hotel_df = pd.get_dummies(hotel_df, columns = ['distribution_channel'], prefix='distr')\n",
    "hotel_df = pd.get_dummies(hotel_df, columns = ['assigned_room_type'], prefix='room')\n",
    "hotel_df = pd.get_dummies(hotel_df, columns = ['deposit_type'], prefix='deposit')\n",
    "hotel_df = pd.get_dummies(hotel_df, columns = ['customer_type'], prefix='cust')\n",
    "#hotel_df.info()"
   ]
  },
  {
   "cell_type": "markdown",
   "metadata": {},
   "source": [
    "Column rearrangement"
   ]
  },
  {
   "cell_type": "code",
   "execution_count": 5,
   "metadata": {},
   "outputs": [],
   "source": [
    "hotel_df.insert(5, 'under_18', hotel_df.pop('under_18'))\n",
    "hotel_df.insert(11, 'is_repeated_guest', hotel_df.pop('is_repeated_guest'))\n",
    "#hotel_knn.info()"
   ]
  },
  {
   "cell_type": "markdown",
   "metadata": {},
   "source": [
    "Forced to take smaller sample of data, due to computing constraints."
   ]
  },
  {
   "cell_type": "code",
   "execution_count": 6,
   "metadata": {},
   "outputs": [],
   "source": [
    "#hotel_df_sample_10k = hotel_df.sample(n=10000, random_state=321).reset_index(drop=True)\n",
    "\n",
    "#X = hotel_df_sample_10k.drop('is_canceled', axis=1)\n",
    "#y = hotel_df_sample_10k['is_canceled']\n",
    "#y.shape\n",
    "\n",
    "X = hotel_df.drop('is_canceled', axis=1)\n",
    "y = hotel_df['is_canceled']"
   ]
  },
  {
   "cell_type": "markdown",
   "metadata": {},
   "source": [
    "Train-test split."
   ]
  },
  {
   "cell_type": "code",
   "execution_count": 7,
   "metadata": {},
   "outputs": [],
   "source": [
    "X_train, X_test, y_train, y_test = train_test_split(X, y, stratify=y, random_state = 0, test_size = 0.2)"
   ]
  },
  {
   "cell_type": "markdown",
   "metadata": {},
   "source": [
    "Scale the data."
   ]
  },
  {
   "cell_type": "code",
   "execution_count": 8,
   "metadata": {},
   "outputs": [],
   "source": [
    "    # Standard Scaler is usually preferred b/c helps you account for outliers & keeps dispersion\n",
    "scaler = StandardScaler()\n",
    "\n",
    "    # fit_transform for train data set, but just the numerical columns, not one-hot encoded columns\n",
    "X_train.iloc[ : , 0:10] = scaler.fit_transform(X_train.iloc[ : , 0:10])\n",
    "X_test.iloc[ : , 0:10] = scaler.transform(X_test.iloc[ : , 0:10])\n",
    "\n",
    "# ready data set at this point: hotel_df"
   ]
  },
  {
   "cell_type": "markdown",
   "metadata": {},
   "source": [
    "## PCA Dimensionality Reduction"
   ]
  },
  {
   "cell_type": "markdown",
   "metadata": {},
   "source": [
    "We want a PCA that helps us define 95% of the variance in our original data set."
   ]
  },
  {
   "cell_type": "code",
   "execution_count": 9,
   "metadata": {},
   "outputs": [],
   "source": [
    "pca = PCA(n_components=0.95)\n",
    "\n",
    "    # fit & transform this PCA onto the original training data set\n",
    "X_train_reduced = pca.fit_transform(X_train)\n",
    "\n",
    "    # just transform onto the original test data set\n",
    "X_test_reduced = pca.transform(X_test)\n",
    "#X_train_reduced"
   ]
  },
  {
   "cell_type": "markdown",
   "metadata": {},
   "source": [
    "## Machine Learning Algorithms"
   ]
  },
  {
   "cell_type": "markdown",
   "metadata": {},
   "source": [
    "### Model 1: KNN Classification"
   ]
  },
  {
   "cell_type": "code",
   "execution_count": 10,
   "metadata": {},
   "outputs": [],
   "source": [
    "    # Not doing grid search due to computing constraints\n",
    "    # Manually performed KNN for n_neighbors = 3,5,7,9,11\n",
    "    # found that 7 gives good recall score, while also keeping difference between train & test scores low\n",
    "np.random.seed(0)\n",
    "knn = KNeighborsClassifier(n_neighbors=7)"
   ]
  },
  {
   "cell_type": "code",
   "execution_count": 11,
   "metadata": {},
   "outputs": [
    {
     "data": {
      "text/plain": [
       "KNeighborsClassifier(algorithm='auto', leaf_size=30, metric='minkowski',\n",
       "                     metric_params=None, n_jobs=None, n_neighbors=7, p=2,\n",
       "                     weights='uniform')"
      ]
     },
     "execution_count": 11,
     "metadata": {},
     "output_type": "execute_result"
    }
   ],
   "source": [
    "   # fit to train model\n",
    "knn.fit(X_train_reduced, y_train)"
   ]
  },
  {
   "cell_type": "code",
   "execution_count": 12,
   "metadata": {},
   "outputs": [
    {
     "name": "stdout",
     "output_type": "stream",
     "text": [
      "KNN after PCA, recall score: 0.6739\n"
     ]
    }
   ],
   "source": [
    "y_pred_knn = knn.predict(X_test_reduced)\n",
    "\n",
    "print('KNN after PCA, recall score: {:.4f}'.format(recall_score(y_test, y_pred_knn)))\n",
    "#print('KNN after PCA, accuracy score: {:.4f}'.format(accuracy_score(y_test, y_pred_knn)))"
   ]
  },
  {
   "cell_type": "code",
   "execution_count": 13,
   "metadata": {},
   "outputs": [
    {
     "name": "stdout",
     "output_type": "stream",
     "text": [
      "KNN after PCA, train score: 0.8517\n",
      "KNN after PCA, test score: 0.8043\n"
     ]
    }
   ],
   "source": [
    "print('KNN after PCA, train score: {:.4f}'.format(knn.score(X_train_reduced, y_train)))\n",
    "print('KNN after PCA, test score: {:.4f}'.format(knn.score(X_test_reduced, y_test)))"
   ]
  },
  {
   "cell_type": "markdown",
   "metadata": {},
   "source": [
    "KNN after PCA gives among the highest but not the highest, recall scores we've generated so far."
   ]
  },
  {
   "cell_type": "markdown",
   "metadata": {},
   "source": [
    "### Model 2: Logistic Regression"
   ]
  },
  {
   "cell_type": "code",
   "execution_count": 14,
   "metadata": {},
   "outputs": [
    {
     "data": {
      "text/plain": [
       "LogisticRegression(C=100, class_weight=None, dual=False, fit_intercept=True,\n",
       "                   intercept_scaling=1, l1_ratio=None, max_iter=100,\n",
       "                   multi_class='auto', n_jobs=None, penalty='l2',\n",
       "                   random_state=321, solver='lbfgs', tol=0.0001, verbose=0,\n",
       "                   warm_start=False)"
      ]
     },
     "execution_count": 14,
     "metadata": {},
     "output_type": "execute_result"
    }
   ],
   "source": [
    "    # instantiate \n",
    "logreg = LogisticRegression(random_state = 321, C = 100)\n",
    "\n",
    "    # fit to training set\n",
    "logreg.fit(X_train_reduced, y_train)"
   ]
  },
  {
   "cell_type": "code",
   "execution_count": 15,
   "metadata": {},
   "outputs": [
    {
     "name": "stdout",
     "output_type": "stream",
     "text": [
      "Logistic Regression after PCA, Recall score: 0.5250\n"
     ]
    }
   ],
   "source": [
    "y_pred_lr = logreg.predict(X_test_reduced)\n",
    "\n",
    "print(\"Logistic Regression after PCA, Recall score: {:.4f}\".format(recall_score(y_test, y_pred_lr)))\n",
    "#print(\"Logistic Regression after PCA, Accuracy score: {:.4f}\".format(accuracy_score(y_test, y_pred_lr)))"
   ]
  },
  {
   "cell_type": "markdown",
   "metadata": {},
   "source": [
    "### Model 3: Linear SVM"
   ]
  },
  {
   "cell_type": "code",
   "execution_count": 16,
   "metadata": {},
   "outputs": [
    {
     "data": {
      "text/plain": [
       "LinearSVC(C=100, class_weight=None, dual=False, fit_intercept=True,\n",
       "          intercept_scaling=1, loss='squared_hinge', max_iter=1000,\n",
       "          multi_class='ovr', penalty='l2', random_state=0, tol=0.0001,\n",
       "          verbose=0)"
      ]
     },
     "execution_count": 16,
     "metadata": {},
     "output_type": "execute_result"
    }
   ],
   "source": [
    "    # instantiate\n",
    "linSVM = LinearSVC(random_state = 0, penalty='l2', C=100, dual=False)\n",
    "\n",
    "    # fit to train model\n",
    "linSVM.fit(X_train_reduced, y_train)"
   ]
  },
  {
   "cell_type": "markdown",
   "metadata": {},
   "source": [
    "##### Linear SVM Model Evaluation"
   ]
  },
  {
   "cell_type": "code",
   "execution_count": 17,
   "metadata": {},
   "outputs": [
    {
     "data": {
      "text/plain": [
       "array([[13554,   884],\n",
       "       [ 4331,  4323]], dtype=int64)"
      ]
     },
     "execution_count": 17,
     "metadata": {},
     "output_type": "execute_result"
    }
   ],
   "source": [
    "   # creating y_pred for use with model evaluation calculations\n",
    "y_pred_linsvm = linSVM.predict(X_test_reduced)\n",
    "confusion_matrix(y_test, y_pred_linsvm)"
   ]
  },
  {
   "cell_type": "code",
   "execution_count": 18,
   "metadata": {},
   "outputs": [
    {
     "name": "stdout",
     "output_type": "stream",
     "text": [
      "Linear SVM after PCA, Recall score: 0.4995\n"
     ]
    }
   ],
   "source": [
    "print(\"Linear SVM after PCA, Recall score: {:.4f}\".format(recall_score(y_test, y_pred_linsvm)))\n",
    "#print(\"Linear SVM after PCA, Accuracy score: {:.4f}\".format(accuracy_score(y_test, y_pred_linsvm)))"
   ]
  },
  {
   "cell_type": "markdown",
   "metadata": {},
   "source": [
    "### Model 4: Decision Trees"
   ]
  },
  {
   "cell_type": "code",
   "execution_count": 19,
   "metadata": {},
   "outputs": [
    {
     "data": {
      "text/plain": [
       "DecisionTreeClassifier(ccp_alpha=0.0, class_weight=None, criterion='gini',\n",
       "                       max_depth=5, max_features=None, max_leaf_nodes=9,\n",
       "                       min_impurity_decrease=0.0, min_impurity_split=None,\n",
       "                       min_samples_leaf=1, min_samples_split=2,\n",
       "                       min_weight_fraction_leaf=0.0, presort='deprecated',\n",
       "                       random_state=0, splitter='best')"
      ]
     },
     "execution_count": 19,
     "metadata": {},
     "output_type": "execute_result"
    }
   ],
   "source": [
    "    # instantiate\n",
    "dtree = DecisionTreeClassifier(random_state=0, max_depth=5, max_leaf_nodes=9, min_samples_split=2)\n",
    "\n",
    "    # fit to train model\n",
    "dtree.fit(X_train_reduced, y_train)"
   ]
  },
  {
   "cell_type": "code",
   "execution_count": 20,
   "metadata": {},
   "outputs": [],
   "source": [
    "   # creating y_pred for use with model evaluation calculations\n",
    "y_pred_dtree = dtree.predict(X_test_reduced)"
   ]
  },
  {
   "cell_type": "code",
   "execution_count": 21,
   "metadata": {},
   "outputs": [
    {
     "name": "stdout",
     "output_type": "stream",
     "text": [
      "Decision Tree after PCA, Recall score: 0.2922\n"
     ]
    }
   ],
   "source": [
    "print(\"Decision Tree after PCA, Recall score: {:.4f}\".format(recall_score(y_test, y_pred_dtree)))\n",
    "#print(\"Decision Tree after PCA, Accuracy score: {:.4f}\".format(accuracy_score(y_test, y_pred_dtree)))"
   ]
  },
  {
   "cell_type": "markdown",
   "metadata": {},
   "source": [
    "### Model 5: Kernelized SVM (rbf, poly, linear)"
   ]
  },
  {
   "cell_type": "markdown",
   "metadata": {},
   "source": [
    "Forced to take smaller sample of data, due to computing constraints."
   ]
  },
  {
   "cell_type": "code",
   "execution_count": 22,
   "metadata": {},
   "outputs": [],
   "source": [
    "hotel_df_sample = hotel_df.sample(n=10000, random_state=321).reset_index(drop=True)"
   ]
  },
  {
   "cell_type": "code",
   "execution_count": 23,
   "metadata": {},
   "outputs": [],
   "source": [
    "X = hotel_df_sample.drop('is_canceled', axis=1)\n",
    "y = hotel_df_sample['is_canceled']\n",
    "#y.shape"
   ]
  },
  {
   "cell_type": "markdown",
   "metadata": {},
   "source": [
    "Train-test split."
   ]
  },
  {
   "cell_type": "code",
   "execution_count": 24,
   "metadata": {},
   "outputs": [],
   "source": [
    "X_train, X_test, y_train, y_test = train_test_split(X, y, stratify=y, random_state = 0, test_size = 0.2)"
   ]
  },
  {
   "cell_type": "markdown",
   "metadata": {},
   "source": [
    "Scale the data."
   ]
  },
  {
   "cell_type": "code",
   "execution_count": 25,
   "metadata": {},
   "outputs": [],
   "source": [
    "    # Standard Scaler is usually preferred b/c helps you account for outliers & keeps dispersion\n",
    "scaler = StandardScaler()\n",
    "\n",
    "    # fit_transform for train data set, but just the numerical columns, not one-hot encoded columns\n",
    "X_train.iloc[ : , 0:10] = scaler.fit_transform(X_train.iloc[ : , 0:10])\n",
    "X_test.iloc[ : , 0:10] = scaler.transform(X_test.iloc[ : , 0:10])\n",
    "\n",
    "# ready data set at this point: hotel_df"
   ]
  },
  {
   "cell_type": "markdown",
   "metadata": {},
   "source": [
    "### Dimensionality Reduction for 10000 sample data set"
   ]
  },
  {
   "cell_type": "code",
   "execution_count": 26,
   "metadata": {},
   "outputs": [],
   "source": [
    "pca = PCA(n_components=0.95)\n",
    "\n",
    "X_train_reduced = pca.fit_transform(X_train)\n",
    "X_test_reduced = pca.transform(X_test)\n",
    "#X_train_reduced"
   ]
  },
  {
   "cell_type": "markdown",
   "metadata": {},
   "source": [
    "#### 5a: SVM (kernel = 'rbf')"
   ]
  },
  {
   "cell_type": "code",
   "execution_count": 27,
   "metadata": {},
   "outputs": [
    {
     "data": {
      "text/plain": [
       "SVC(C=1, break_ties=False, cache_size=200, class_weight=None, coef0=0.0,\n",
       "    decision_function_shape='ovr', degree=3, gamma=0.1, kernel='rbf',\n",
       "    max_iter=-1, probability=False, random_state=None, shrinking=True,\n",
       "    tol=0.001, verbose=False)"
      ]
     },
     "execution_count": 27,
     "metadata": {},
     "output_type": "execute_result"
    }
   ],
   "source": [
    "    # instantiate\n",
    "svm_rbf = SVC(kernel='rbf', gamma=0.1, C=1)\n",
    "\n",
    "    # fit to train model\n",
    "svm_rbf.fit(X_train_reduced, y_train)"
   ]
  },
  {
   "cell_type": "code",
   "execution_count": 28,
   "metadata": {},
   "outputs": [
    {
     "name": "stdout",
     "output_type": "stream",
     "text": [
      "SVM (rbf kernel) after PCA, Recall score: 0.5106\n"
     ]
    }
   ],
   "source": [
    "y_pred_svm1 = svm_rbf.predict(X_test_reduced)\n",
    "\n",
    "print(\"SVM (rbf kernel) after PCA, Recall score: {:.4f}\".format(recall_score(y_test, y_pred_svm1)))\n",
    "#print(\"SVM (rbf kernel) after PCA, Accuracy score: {:.4f}\".format(accuracy_score(y_test, y_pred_svm1)))"
   ]
  },
  {
   "cell_type": "markdown",
   "metadata": {},
   "source": [
    "#### 5b: SVM (kernel = 'poly')"
   ]
  },
  {
   "cell_type": "code",
   "execution_count": 29,
   "metadata": {},
   "outputs": [
    {
     "data": {
      "text/plain": [
       "SVC(C=0.001, break_ties=False, cache_size=200, class_weight=None, coef0=0.0,\n",
       "    decision_function_shape='ovr', degree=3, gamma=1, kernel='poly',\n",
       "    max_iter=-1, probability=False, random_state=None, shrinking=True,\n",
       "    tol=0.001, verbose=False)"
      ]
     },
     "execution_count": 29,
     "metadata": {},
     "output_type": "execute_result"
    }
   ],
   "source": [
    "    # instantiate\n",
    "svm_poly = SVC(kernel='poly', gamma=1, C=0.001, degree=3)\n",
    "\n",
    "    # fit to train model\n",
    "svm_poly.fit(X_train_reduced, y_train)"
   ]
  },
  {
   "cell_type": "code",
   "execution_count": 30,
   "metadata": {},
   "outputs": [
    {
     "name": "stdout",
     "output_type": "stream",
     "text": [
      "SVM (poly kernel) after PCA, Recall score: 0.5053\n"
     ]
    }
   ],
   "source": [
    "y_pred_svm2 = svm_poly.predict(X_test_reduced)\n",
    "\n",
    "print(\"SVM (poly kernel) after PCA, Recall score: {:.4f}\".format(recall_score(y_test, y_pred_svm2)))\n",
    "#print(\"SVM (poly kernel) after PCA, Accuracy score: {:.4f}\".format(accuracy_score(y_test, y_pred_svm2)))"
   ]
  },
  {
   "cell_type": "markdown",
   "metadata": {},
   "source": [
    "#### 5c: SVM (kernel = 'linear')"
   ]
  },
  {
   "cell_type": "code",
   "execution_count": 31,
   "metadata": {},
   "outputs": [
    {
     "data": {
      "text/plain": [
       "SVC(C=1000, break_ties=False, cache_size=200, class_weight=None, coef0=0.0,\n",
       "    decision_function_shape='ovr', degree=3, gamma=0.001, kernel='linear',\n",
       "    max_iter=-1, probability=False, random_state=None, shrinking=True,\n",
       "    tol=0.001, verbose=False)"
      ]
     },
     "execution_count": 31,
     "metadata": {},
     "output_type": "execute_result"
    }
   ],
   "source": [
    "    # instantiate\n",
    "svm_lin = SVC(kernel='linear', gamma=0.001, C=1000)\n",
    "\n",
    "    # fit to train model\n",
    "svm_lin.fit(X_train_reduced, y_train)"
   ]
  },
  {
   "cell_type": "code",
   "execution_count": 32,
   "metadata": {},
   "outputs": [
    {
     "name": "stdout",
     "output_type": "stream",
     "text": [
      "SVM (linear kernel) after PCA, Recall score: 0.5106\n"
     ]
    }
   ],
   "source": [
    "y_pred_svm3 = svm_rbf.predict(X_test_reduced)\n",
    "confusion_matrix(y_test, y_pred_svm3)\n",
    "\n",
    "print(\"SVM (linear kernel) after PCA, Recall score: {:.4f}\".format(recall_score(y_test, y_pred_svm3)))\n",
    "#print(\"SVM (linear kernel) after PCA, Accuracy score: {:.4f}\".format(accuracy_score(y_test, y_pred_svm3)))"
   ]
  },
  {
   "cell_type": "markdown",
   "metadata": {},
   "source": [
    "### Recall Score Summaries"
   ]
  },
  {
   "cell_type": "markdown",
   "metadata": {},
   "source": [
    "|   | Model Name | Recall Score | Bagging Recall Score | Pasting Score | Adaboosting Recall Score | PCA Recall Score |\n",
    "| - | ---------- | -----------  | -------------------- | ------------- | ------------------------ | ---------------- |\n",
    "| 1 |   KNN      |      0.5319 |    NA   |    NA   |  NA   | 0.6739 |\n",
    "| 2 | Logistic Regression    | 0.5362 | 0.5161 | 0.5158 | 0.5178 | 0.5250 |\n",
    "| 3 | Linear SVM  | 0.5174 |  NA   |    NA   |  NA   | 0.4995 |\n",
    "| 4 | Decision Tree  | 0.5767 | 0.4011 | 0.4018 | 0.6826 | 0.2922 |\n",
    "| 5a |  SVM, kernel='rbf'   | 0.4691 |  NA   |    NA   |  NA   | 0.5106 |\n",
    "| 5b |  SVM, kernel='poly'  | 0.5556 |  NA   |    NA   |  NA   | 0.5053 |\n",
    "| 5c |  SVM, kernel='linear' | 0.5185 |  NA   |    NA   |  NA   | 0.5106 |\n",
    "| 6 | Hard Voting Classifier  | 0.5745 |  NA   |    NA   |  NA   |  NA  |\n",
    "| 7 | Soft Voting Classifier  | 0.5359 |  NA   |    NA   |  NA   |  NA  |\n",
    "| 8 | Gradient Boosting  | 0.7061 |  NA   |    NA   |  NA   |  NA  |"
   ]
  },
  {
   "cell_type": "markdown",
   "metadata": {},
   "source": [
    "Surprisingly, Decision Tree after PCA performs far worse than all the other models. In addition, all the SVM models also perform slightly worse after PCA.\n",
    "\n",
    "Overall, PCA does not lead to better recall scores.\n",
    "\n",
    "The best model, still is the Gradient Boosting Classifier."
   ]
  }
 ],
 "metadata": {
  "kernelspec": {
   "display_name": "Python 3",
   "language": "python",
   "name": "python3"
  },
  "language_info": {
   "codemirror_mode": {
    "name": "ipython",
    "version": 3
   },
   "file_extension": ".py",
   "mimetype": "text/x-python",
   "name": "python",
   "nbconvert_exporter": "python",
   "pygments_lexer": "ipython3",
   "version": "3.7.6"
  }
 },
 "nbformat": 4,
 "nbformat_minor": 2
}
