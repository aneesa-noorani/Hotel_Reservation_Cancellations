{
 "cells": [
  {
   "cell_type": "markdown",
   "metadata": {
    "colab_type": "text",
    "id": "KRlRALH-IjLm"
   },
   "source": [
    "# Project 2 - Part II: Classification Task"
   ]
  },
  {
   "cell_type": "markdown",
   "metadata": {},
   "source": [
    "### Notebook 5: Deep Learning"
   ]
  },
  {
   "cell_type": "code",
   "execution_count": 1,
   "metadata": {
    "colab": {},
    "colab_type": "code",
    "id": "7uxYNNbOIjLo"
   },
   "outputs": [
    {
     "name": "stderr",
     "output_type": "stream",
     "text": [
      "Using TensorFlow backend.\n"
     ]
    }
   ],
   "source": [
    "import warnings\n",
    "warnings.filterwarnings('ignore')\n",
    "\n",
    "import tensorflow as tf\n",
    "import keras\n",
    "import numpy as np\n",
    "import pandas as pd\n",
    "\n",
    "from sklearn.preprocessing import StandardScaler\n",
    "from sklearn.model_selection import train_test_split\n",
    "from sklearn.model_selection import GridSearchCV\n",
    "from sklearn.metrics import recall_score, confusion_matrix, accuracy_score\n",
    "\n",
    "from keras.models import Sequential\n",
    "from keras.layers import Dense\n",
    "from keras.wrappers.scikit_learn import KerasClassifier\n",
    "\n",
    "# fix random seed for reproducibility\n",
    "np.random.seed(10)"
   ]
  },
  {
   "cell_type": "markdown",
   "metadata": {
    "colab_type": "text",
    "id": "uQF40vGpIjLr"
   },
   "source": [
    "### Load data"
   ]
  },
  {
   "cell_type": "code",
   "execution_count": 2,
   "metadata": {
    "colab": {
     "base_uri": "https://localhost:8080/",
     "height": 34
    },
    "colab_type": "code",
    "id": "GBZ4MrQZIjLs",
    "outputId": "f8b3cc4d-3c8b-4856-c7ad-8622b6f4bc4e"
   },
   "outputs": [
    {
     "data": {
      "text/plain": [
       "(115459, 20)"
      ]
     },
     "execution_count": 2,
     "metadata": {},
     "output_type": "execute_result"
    }
   ],
   "source": [
    "df_bonus = pd.read_csv(r'revised_hotel_df.csv')\n",
    "hotel_df = df_bonus.copy()\n",
    "hotel_df.shape"
   ]
  },
  {
   "cell_type": "code",
   "execution_count": 3,
   "metadata": {
    "colab": {
     "base_uri": "https://localhost:8080/",
     "height": 136
    },
    "colab_type": "code",
    "id": "kRiV_TSiIjLw",
    "outputId": "a1804636-4c79-4f95-878e-451d9cac07de",
    "scrolled": true
   },
   "outputs": [
    {
     "data": {
      "text/plain": [
       "Index(['hotel', 'is_canceled', 'lead_time', 'arrival_date_month',\n",
       "       'stays_in_weekend_nights', 'stays_in_week_nights', 'adults', 'meal',\n",
       "       'country', 'distribution_channel', 'is_repeated_guest',\n",
       "       'previous_cancellations', 'previous_bookings_not_canceled',\n",
       "       'assigned_room_type', 'booking_changes', 'deposit_type',\n",
       "       'days_in_waiting_list', 'customer_type', 'adr', 'under_18'],\n",
       "      dtype='object')"
      ]
     },
     "execution_count": 3,
     "metadata": {},
     "output_type": "execute_result"
    }
   ],
   "source": [
    "hotel_df.columns"
   ]
  },
  {
   "cell_type": "markdown",
   "metadata": {
    "colab_type": "text",
    "id": "1DEZLcLxIjLz"
   },
   "source": [
    "### Evaluation Metric Decision"
   ]
  },
  {
   "cell_type": "markdown",
   "metadata": {
    "colab_type": "text",
    "id": "S_52MhJcIjLz"
   },
   "source": [
    "From Project 1, we decided that the chosen evaluation metric is recall. The goal is the produce a model with a __high recall__ rate."
   ]
  },
  {
   "cell_type": "markdown",
   "metadata": {
    "colab_type": "text",
    "id": "KEZebfYcIjL0"
   },
   "source": [
    "### Data Preparation"
   ]
  },
  {
   "cell_type": "code",
   "execution_count": 4,
   "metadata": {
    "colab": {},
    "colab_type": "code",
    "id": "V4JDierLIjL1"
   },
   "outputs": [],
   "source": [
    "    # one hot encode the categorical variables\n",
    "hotel_df = pd.get_dummies(hotel_df, columns = ['hotel'], prefix='hotel')\n",
    "hotel_df = pd.get_dummies(hotel_df, columns = ['arrival_date_month'], prefix='month')\n",
    "hotel_df = pd.get_dummies(hotel_df, columns = ['meal'], prefix='meal')\n",
    "hotel_df = pd.get_dummies(hotel_df, columns = ['country'], prefix='country')\n",
    "hotel_df = pd.get_dummies(hotel_df, columns = ['distribution_channel'], prefix='distr')\n",
    "hotel_df = pd.get_dummies(hotel_df, columns = ['assigned_room_type'], prefix='room')\n",
    "hotel_df = pd.get_dummies(hotel_df, columns = ['deposit_type'], prefix='deposit')\n",
    "hotel_df = pd.get_dummies(hotel_df, columns = ['customer_type'], prefix='cust')\n",
    "#hotel_df.info()"
   ]
  },
  {
   "cell_type": "markdown",
   "metadata": {
    "colab_type": "text",
    "id": "hg6-NMp3IjL4"
   },
   "source": [
    "Column rearrangement"
   ]
  },
  {
   "cell_type": "code",
   "execution_count": 5,
   "metadata": {
    "colab": {},
    "colab_type": "code",
    "id": "f63bYKy-IjL4"
   },
   "outputs": [],
   "source": [
    "hotel_df.insert(5, 'under_18', hotel_df.pop('under_18'))\n",
    "hotel_df.insert(11, 'is_repeated_guest', hotel_df.pop('is_repeated_guest'))\n",
    "#hotel_df.info()"
   ]
  },
  {
   "cell_type": "markdown",
   "metadata": {
    "colab_type": "text",
    "id": "wUD0DLtDIjL7"
   },
   "source": [
    "Need to take random sample, as the current data set is too large to run on a normal computer. We also make sure that the proportion of cancelled reservations is similar to the proportion observed in the original data set, which was ~37%."
   ]
  },
  {
   "cell_type": "markdown",
   "metadata": {},
   "source": [
    "Getting sample data set ready."
   ]
  },
  {
   "cell_type": "code",
   "execution_count": 6,
   "metadata": {
    "colab": {
     "base_uri": "https://localhost:8080/",
     "height": 68
    },
    "colab_type": "code",
    "id": "kPFu-84lO4Fq",
    "outputId": "d60cf13b-852a-4a75-9f8b-b816b8b7be3f"
   },
   "outputs": [],
   "source": [
    "#hotel_df_sample = hotel_df.sample(n=1000, random_state=8860).reset_index(drop=True)\n",
    "#hotel_df_sample['is_canceled'].value_counts()"
   ]
  },
  {
   "cell_type": "code",
   "execution_count": 7,
   "metadata": {
    "colab": {},
    "colab_type": "code",
    "id": "Y6i8XaaeIjMP"
   },
   "outputs": [],
   "source": [
    "X = hotel_df.drop('is_canceled', axis=1)\n",
    "y = hotel_df['is_canceled']\n",
    "#X.info()"
   ]
  },
  {
   "cell_type": "markdown",
   "metadata": {
    "colab_type": "text",
    "id": "yh5qJ2ASIjMT"
   },
   "source": [
    "Train-test split & scaling"
   ]
  },
  {
   "cell_type": "code",
   "execution_count": 8,
   "metadata": {
    "colab": {},
    "colab_type": "code",
    "id": "EM7q-dbkIjMU"
   },
   "outputs": [],
   "source": [
    "X_train, X_test, y_train, y_test = train_test_split(X, y, stratify=y, random_state = 0, test_size = 0.2)\n",
    "\n",
    "    # Standard Scaler is usually preferred b/c helps you account for outliers & keeps dispersion\n",
    "scaler = StandardScaler()\n",
    "\n",
    "    # fit_transform for train data set, but just the numerical columns, not one-hot encoded columns\n",
    "X_train.iloc[ : , 0:10] = scaler.fit_transform(X_train.iloc[ : , 0:10])\n",
    "X_test.iloc[ : , 0:10] = scaler.transform(X_test.iloc[ : , 0:10])"
   ]
  },
  {
   "cell_type": "markdown",
   "metadata": {
    "colab_type": "text",
    "id": "TGaZybNvIjL8"
   },
   "source": [
    "## Deep Learning Algorithms"
   ]
  },
  {
   "cell_type": "markdown",
   "metadata": {},
   "source": [
    "### GridSearchCV method"
   ]
  },
  {
   "cell_type": "markdown",
   "metadata": {},
   "source": [
    "#### Steps 1 & 2: Create and compile model"
   ]
  },
  {
   "cell_type": "code",
   "execution_count": 16,
   "metadata": {},
   "outputs": [],
   "source": [
    "def create_model():\n",
    "    # Step 1: create model\n",
    "    model = Sequential()\n",
    "    model.add(Dense(19, input_dim=58, activation='relu'))\n",
    "    model.add(Dense(13, activation='relu'))\n",
    "    model.add(Dense(7, activation='relu'))\n",
    "    model.add(Dense(1, activation='sigmoid'))\n",
    "    # Step 2: compile model\n",
    "    model.compile(loss='binary_crossentropy', optimizer='adam', metrics=['accuracy'])\n",
    "    return model"
   ]
  },
  {
   "cell_type": "code",
   "execution_count": 25,
   "metadata": {},
   "outputs": [],
   "source": [
    "    # instantiate\n",
    "model = KerasClassifier(build_fn = create_model, verbose = 0)\n",
    "\n",
    "    # define parameter grid\n",
    "param_grid = {'batch_size':[10,15,20] , 'epochs':[10, 20, 30]}\n",
    "\n",
    "    # grid search\n",
    "grid_search = GridSearchCV(estimator= model, param_grid = param_grid, cv = 5)"
   ]
  },
  {
   "cell_type": "markdown",
   "metadata": {},
   "source": [
    "#### Step 3: Fit the model"
   ]
  },
  {
   "cell_type": "code",
   "execution_count": 18,
   "metadata": {},
   "outputs": [],
   "source": [
    "grid_search_result = grid_search.fit(X_train, y_train)"
   ]
  },
  {
   "cell_type": "code",
   "execution_count": 24,
   "metadata": {},
   "outputs": [
    {
     "data": {
      "text/plain": [
       "{'batch_size': 15, 'epochs': 30}"
      ]
     },
     "execution_count": 24,
     "metadata": {},
     "output_type": "execute_result"
    }
   ],
   "source": [
    "    # best parameters\n",
    "grid_search_result.best_params_"
   ]
  },
  {
   "cell_type": "markdown",
   "metadata": {},
   "source": [
    "#### Steps 4 & 5: Prediction and Evaluation"
   ]
  },
  {
   "cell_type": "code",
   "execution_count": 22,
   "metadata": {},
   "outputs": [
    {
     "name": "stdout",
     "output_type": "stream",
     "text": [
      "Deep Learning, Train Score: 0.8235\n",
      "Deep Learning, Test Score: 0.8128\n"
     ]
    }
   ],
   "source": [
    "print('Deep Learning, Train Score: {:.4f}'.format(grid_search_result.score(X_train, y_train)))\n",
    "print('Deep Learning, Test Score: {:.4f}'.format(grid_search_result.score(X_test, y_test)))"
   ]
  },
  {
   "cell_type": "code",
   "execution_count": 23,
   "metadata": {},
   "outputs": [
    {
     "name": "stdout",
     "output_type": "stream",
     "text": [
      "Deep Learning, Recall Score: 0.6635\n"
     ]
    }
   ],
   "source": [
    "y_predict = grid_search_result.predict(X_test)\n",
    "print('Deep Learning, Recall Score: {:.4f}'.format(recall_score(y_test, y_predict)))"
   ]
  },
  {
   "cell_type": "markdown",
   "metadata": {
    "colab_type": "text",
    "id": "ocqmajvvIjNF"
   },
   "source": [
    "### All Model Summaries"
   ]
  },
  {
   "cell_type": "markdown",
   "metadata": {
    "colab_type": "text",
    "id": "sfB-XVoFIjNG"
   },
   "source": [
    "|   | Model Name | Recall Score | Bagging Recall Score | Pasting Score | Adaboosting Recall Score | PCA Recall Score |\n",
    "| - | ---------- | -----------  | -------------------- | ------------- | ------------------------ | ---------------- |\n",
    "| 1 |   KNN      |      0.5319 |    NA   |    NA   |  NA   | 0.6739 |\n",
    "| 2 | Logistic Regression    | 0.5362 | 0.5161 | 0.5158 | 0.5178 | 0.5250 |\n",
    "| 3 | Linear SVM  | 0.5174 |  NA   |    NA   |  NA   | 0.4995 |\n",
    "| 4 | Decision Tree  | 0.5767 | 0.4011 | 0.4018 | 0.6826 | 0.2922 |\n",
    "| 5a |  SVM, kernel='rbf'   | 0.4691 |  NA   |    NA   |  NA   | 0.5106 |\n",
    "| 5b |  SVM, kernel='poly'  | 0.5556 |  NA   |    NA   |  NA   | 0.5053 |\n",
    "| 5c |  SVM, kernel='linear' | 0.5185 |  NA   |    NA   |  NA   | 0.5106 |\n",
    "| 6 | Hard Voting Classifier  | 0.5745 |  NA   |    NA   |  NA   |  NA  |\n",
    "| 7 | Soft Voting Classifier  | 0.5359 |  NA   |    NA   |  NA   |  NA  |\n",
    "| 8 | Gradient Boosting  | 0.7061 |  NA   |    NA   |  NA   |  NA  |\n",
    "| 9 | Deep Learning  | 0.6635 |  NA   |    NA   |  NA   |  NA  |"
   ]
  },
  {
   "cell_type": "markdown",
   "metadata": {
    "colab_type": "text",
    "id": "vXHEpFwgIjNG"
   },
   "source": [
    "Based on the recall score for all of the models, Gradient Boosting gives the highest recall, at 70.61%."
   ]
  }
 ],
 "metadata": {
  "accelerator": "GPU",
  "colab": {
   "collapsed_sections": [],
   "machine_shape": "hm",
   "name": "Project_2_Draft.ipynb",
   "provenance": []
  },
  "kernelspec": {
   "display_name": "Python 3",
   "language": "python",
   "name": "python3"
  },
  "language_info": {
   "codemirror_mode": {
    "name": "ipython",
    "version": 3
   },
   "file_extension": ".py",
   "mimetype": "text/x-python",
   "name": "python",
   "nbconvert_exporter": "python",
   "pygments_lexer": "ipython3",
   "version": "3.7.6"
  }
 },
 "nbformat": 4,
 "nbformat_minor": 1
}
